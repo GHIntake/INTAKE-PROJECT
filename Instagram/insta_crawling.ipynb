{
 "cells": [
  {
   "cell_type": "code",
   "execution_count": 1,
   "metadata": {},
   "outputs": [
    {
     "name": "stderr",
     "output_type": "stream",
     "text": [
      "C:\\Users\\abys\\Anaconda3\\lib\\site-packages\\gensim\\utils.py:1197: UserWarning: detected Windows; aliasing chunkize to chunkize_serial\n",
      "  warnings.warn(\"detected Windows; aliasing chunkize to chunkize_serial\")\n"
     ]
    },
    {
     "ename": "ModuleNotFoundError",
     "evalue": "No module named 'data_handler'",
     "output_type": "error",
     "traceback": [
      "\u001b[1;31m---------------------------------------------------------------------------\u001b[0m",
      "\u001b[1;31mModuleNotFoundError\u001b[0m                       Traceback (most recent call last)",
      "\u001b[1;32m<ipython-input-1-113e0b51db0c>\u001b[0m in \u001b[0;36m<module>\u001b[1;34m()\u001b[0m\n\u001b[0;32m      9\u001b[0m \u001b[1;32mfrom\u001b[0m \u001b[0mcollections\u001b[0m \u001b[1;32mimport\u001b[0m \u001b[0mCounter\u001b[0m\u001b[1;33m\u001b[0m\u001b[0m\n\u001b[0;32m     10\u001b[0m \u001b[1;32mimport\u001b[0m \u001b[0mnumpy\u001b[0m \u001b[1;32mas\u001b[0m \u001b[0mnp\u001b[0m\u001b[1;33m\u001b[0m\u001b[0m\n\u001b[1;32m---> 11\u001b[1;33m \u001b[1;32mimport\u001b[0m \u001b[0mdata_handler\u001b[0m \u001b[1;32mas\u001b[0m \u001b[0mhandler\u001b[0m\u001b[1;33m\u001b[0m\u001b[0m\n\u001b[0m\u001b[0;32m     12\u001b[0m \u001b[1;32mimport\u001b[0m \u001b[0mdata_analyzer\u001b[0m \u001b[1;32mas\u001b[0m \u001b[0manalyzer\u001b[0m\u001b[1;33m\u001b[0m\u001b[0m\n\u001b[0;32m     13\u001b[0m \u001b[1;32mfrom\u001b[0m \u001b[0msklearn\u001b[0m\u001b[1;33m.\u001b[0m\u001b[0mfeature_extraction\u001b[0m\u001b[1;33m.\u001b[0m\u001b[0mtext\u001b[0m \u001b[1;32mimport\u001b[0m \u001b[0mCountVectorizer\u001b[0m\u001b[1;33m\u001b[0m\u001b[0m\n",
      "\u001b[1;31mModuleNotFoundError\u001b[0m: No module named 'data_handler'"
     ]
    }
   ],
   "source": [
    "from selenium import webdriver\n",
    "from selenium.webdriver.support.ui import WebDriverWait\n",
    "from selenium.webdriver.support import expected_conditions as EC\n",
    "from selenium.common.exceptions import NoAlertPresentException, NoSuchElementException, TimeoutException, StaleElementReferenceException, UnexpectedAlertPresentException\n",
    "from selenium.webdriver.common.by import By\n",
    "import os\n",
    "import urllib.request\n",
    "from collections import Counter\n",
    "import time\n",
    "import pickle\n",
    "\n",
    "\n",
    "class Insta():\n",
    "    \n",
    "    user_ids = []\n",
    "    dataset = [['user_id', 'created_at', 'main_text', 'hashtags', 'comments', 'likes', 'current_url']]\n",
    "    keyword_dic = {}\n",
    "    \n",
    "    def __init__(self, keyword, number, file_name='images', mode='None'):\n",
    "        self.keyword = keyword\n",
    "        self.number = number\n",
    "        self.file_name = file_name\n",
    "        self.mode = mode\n",
    "\n",
    "    def chrome_open(self):\n",
    "\n",
    "        self.options = webdriver.ChromeOptions()\n",
    "        if self.mode == 'headless':\n",
    "            self.options.add_argument('headless')\n",
    "        self.options.add_argument('window-size=1920x1080')\n",
    "        self.options.add_argument(\"disable-gpu\")\n",
    "        self.options.add_argument(\"user-agent=Mozilla/5.0 (Macintosh; Intel Mac OS X 10_12_6) AppleWebKit/537.36 (KHTML, like Gecko) Chrome/61.0.3163.100 Safari/537.36\")\n",
    "        self.options.add_argument(\"lang=ko_KR\") # 한국어!\n",
    "        self.options.add_argument(\"disable-infobars\")\n",
    "        self.driver = webdriver.Chrome('chromedriver', chrome_options=self.options)\n",
    "\n",
    "        self.driver.get('http://google.com')\n",
    "        self.driver.execute_script(\"Object.defineProperty(navigator, 'plugins', {get: function() {return[1, 2, 3, 4, 5]}})\")\n",
    "        self.driver.execute_script(\"Object.defineProperty(navigator, 'languages', {get: function() {return ['ko-KR', 'ko']}})\")\n",
    "        self.driver.execute_script(\"const getParameter = WebGLRenderingContext.getParameter;WebGLRenderingContext.prototype.getParameter = function(parameter) {if (parameter === 37445) {return 'NVIDIA Corporation'} if (parameter === 37446) {return 'NVIDIA GeForce GTX 980 Ti OpenGL Engine';}return getParameter(parameter);};\")\n",
    "\n",
    "        self.driver.implicitly_wait(3)\n",
    "        \n",
    "    def insta_keyword(self):\n",
    "        keyword_t = urllib.parse.urlencode({'': self.keyword})[1:]\n",
    "        self.driver.get('https://www.instagram.com/explore/tags/{}/?hl=ko'.format(keyword_t))\n",
    "        #iframe = WebDriverWait(self.driver, 10).until(EC.presence_of_element_located((By.NAME, 'fb_xdm_frame_https')))\n",
    "        #self.driver.switch_to.frame(iframe1)\n",
    "        self.total = int(self.driver.find_element_by_xpath(\n",
    "            '//*[@id=\"react-root\"]/section/main/article/header/div[2]/span/span').text.replace(',', ''))\n",
    "\n",
    "        \n",
    "    def crawling(self):\n",
    "        \n",
    "        if self.number == 'total':\n",
    "            number = self.total\n",
    "        else:\n",
    "            number = self.number\n",
    "               \n",
    "        enter_post = WebDriverWait(self.driver, 10).until(\n",
    "                EC.visibility_of_element_located((By.CSS_SELECTOR, 'div.eLAPa')))        \n",
    "        enter_post.click()\n",
    "        main_text = None\n",
    "        check_text = True\n",
    "        checker2 = 0\n",
    "        for i in range(int(number)):\n",
    "            if i != 0: check_text = main_text\n",
    "            start_checker = 0\n",
    "            same_checker = 0\n",
    "            #print(start_checker, same_checker, 1)\n",
    "            #print(start_checker, same_checker, 2)\n",
    "            while True:       \n",
    "                try:\n",
    "                    texts = WebDriverWait(self.driver, 3).until(\n",
    "                            EC.visibility_of_all_elements_located((By.CSS_SELECTOR, 'ul.Xl2Pu > li')))                \n",
    "                    main_text = texts[0].text\n",
    "                    comments = [c.text for c in texts[1:]]\n",
    "                    if check_text == main_text:\n",
    "                        same_checker += 1\n",
    "                        if same_checker - start_checker > 200:\n",
    "                            print(start_checker, same_checker, 3)\n",
    "                            break\n",
    "                        continue\n",
    "                    else: \n",
    "                        user_id = WebDriverWait(self.driver, 3).until(\n",
    "                            EC.visibility_of_element_located((By.CSS_SELECTOR, 'div.e1e1d'))).text\n",
    "                        print('get user_id\\n\\n')\n",
    "                        break\n",
    "                except NoSuchElementException as ex:\n",
    "                    print(i, 'user_id', ex)\n",
    "                    same_checker += 1\n",
    "                    if same_checker - start_checker > 400:\n",
    "                        print(start_checker, same_checker, 3)\n",
    "                        break\n",
    "                except Exception as e:\n",
    "                    same_checker += 1\n",
    "                    print(i, 'user_id', e)\n",
    "                    if same_checker - start_checker > 400:\n",
    "                        print(start_checker, same_checker, 3)                    \n",
    "                        break\n",
    "                        \n",
    "            if same_checker - start_checker > 200:\n",
    "                try:\n",
    "                    next_button = self.driver.find_element_by_css_selector('a.HBoOv.coreSpriteRightPaginationArrow')\n",
    "                    next_button.click()\n",
    "                #print(start_checker, same_checker, 4)\n",
    "                except NoSuchElementException as ex:\n",
    "                    checker2 += 1\n",
    "                    print(i, 'user_id', ex)\n",
    "                    if checker2 > 5:\n",
    "                        break\n",
    "                except Exception as e:\n",
    "                    checker2 += 1\n",
    "                    print(i, 'user_id', e)\n",
    "                    if checker2 > 50:\n",
    "                        break\n",
    "                continue\n",
    "            '''        \n",
    "            if '흡기' in main_text:\n",
    "                next_button = self.driver.find_element_by_css_selector('a.HBoOv.coreSpriteRightPaginationArrow')\n",
    "                next_button.click()\n",
    "                continue\n",
    "            '''\n",
    "            \n",
    "\n",
    "            if not user_id in self.user_ids:\n",
    "                self.user_ids.append(user_id)\n",
    "                self.keyword_dic[user_id] = {'user_index' : i, 'user_id' : user_id, 'main_text' : [], 'hashtags' : [], 'created_at': [],'comments' : [], 'likes' : [], 'current_url' : []}\n",
    "                while True:\n",
    "                    try:\n",
    "                        hashtags = [h.text[1:] for h in self.driver.find_elements_by_css_selector('ul.Xl2Pu>li>span>a')]\n",
    "                        #print(1)\n",
    "                        created_at = self.driver.find_element_by_css_selector('time._1o9PC.Nzb55').get_attribute('datetime')\n",
    "                        #print(2)\n",
    "                        current_url = self.driver.current_url\n",
    "                        #print(3)\n",
    "                        \n",
    "                        # comments = [c.text for c in texts[1:]]\n",
    "                        # likes = article.find_element_by_css_selector('span.zV_Nj>span').text\n",
    "\n",
    "                    except NoSuchElementException as ex:\n",
    "                        print(i, 1, user_id, ex)\n",
    "                    except Exception as e:\n",
    "                        print(i, 1, user_id, e)\n",
    "                        \n",
    "                    else:\n",
    "                        self.keyword_dic[user_id]['main_text'].append(main_text)\n",
    "                        self.keyword_dic[user_id]['hashtags'].append(hashtags)\n",
    "                        self.keyword_dic[user_id]['created_at'].append(created_at)\n",
    "                        self.keyword_dic[user_id]['current_url'].append(current_url)\n",
    "                        self.keyword_dic[user_id]['comments'].append('/'.join(comments))\n",
    "                        likes = ''\n",
    "                        try:\n",
    "                            likes = self.driver.find_element_by_css_selector('span.zV_Nj>span').text\n",
    "                            self.keyword_dic[user_id]['likes'].append(likes)\n",
    "                            self.dataset.append([user_id, created_at, main_text, hashtags, comments, likes, current_url])\n",
    "                            break\n",
    "\n",
    "                        except:\n",
    "                            print('below 11')\n",
    "                            self.keyword_dic[user_id]['likes'].append(likes)\n",
    "                            self.dataset.append([user_id, created_at, main_text, hashtags, comments, likes, current_url])\n",
    "                            break\n",
    "                        # self.keyword_dic[user_id]['comments'].append(comments)\n",
    "                        # self.keyword_dic[user_id]['likes'].append(likes)\n",
    "                       \n",
    "            else:\n",
    "                while True:\n",
    "                    try:\n",
    "                        temp_bool = False\n",
    "                        for m in self.keyword_dic[user_id]['main_text']:\n",
    "                            if m != main_text:\n",
    "                                temp_bool = False\n",
    "                            else: \n",
    "                                temp_bool = True\n",
    "                                break           \n",
    "                        if temp_bool == False:\n",
    "                            #print(1)\n",
    "                            hashtags = [h.text[1:] for h in self.driver.find_elements_by_css_selector('ul.Xl2Pu>li>span>a')]\n",
    "                            #print(2)\n",
    "                            created_at = self.driver.find_element_by_css_selector('time._1o9PC.Nzb55').get_attribute('datetime')\n",
    "                            #print(3)\n",
    "                            current_url = self.driver.current_url\n",
    "                            #print(4)\n",
    "                            # comments = [c.text for c in texts[1:]]\n",
    "                            # likes = article.find_element_by_css_selector('span.zV_Nj>span').text\n",
    "                    \n",
    "                    except NoSuchElementException as ex:\n",
    "                        print(i, 2, user_id, ex)\n",
    "                    except Exception as e:\n",
    "                        print(i, 2, user_id, e)\n",
    "                    else:\n",
    "                        self.keyword_dic[user_id]['main_text'].append(main_text)\n",
    "                        self.keyword_dic[user_id]['hashtags'].append(hashtags)\n",
    "                        self.keyword_dic[user_id]['created_at'].append(created_at)\n",
    "                        self.keyword_dic[user_id]['current_url'].append(current_url)\n",
    "                        self.keyword_dic[user_id]['comments'].append('/'.join(comments))\n",
    "                        \n",
    "                        likes = ''\n",
    "                        \n",
    "                        try:\n",
    "                            likes = self.driver.find_element_by_css_selector('span.zV_Nj>span').text\n",
    "                            self.keyword_dic[user_id]['likes'].append(likes)\n",
    "                            self.dataset.append([user_id, created_at, main_text, hashtags, comments, likes, current_url])\n",
    "                            break\n",
    "\n",
    "                        except:\n",
    "                            print('below 11')\n",
    "                            self.keyword_dic[user_id]['likes'].append(likes)\n",
    "                            self.dataset.append([user_id, created_at, main_text, hashtags, comments, likes, current_url])\n",
    "                            break\n",
    "                        \n",
    "                        \n",
    "                        # self.keyword_dic[user_id]['comments'].append(comments)\n",
    "                        # self.keyword_dic[user_id]['likes'].append(likes)\n",
    "                        \n",
    "                    \n",
    "            try:\n",
    "                next_button = self.driver.find_element_by_css_selector('a.HBoOv.coreSpriteRightPaginationArrow')\n",
    "                next_button.click()\n",
    "                print(i, 'finished')\n",
    "            except NoSuchElementException as ex:\n",
    "                print('completed\\n\\n', ex)\n",
    "            except Exception as e:\n",
    "                print('completed\\n\\n', e)\n",
    "            \n",
    "                \n",
    "    def save_data(self, data, datatype='list'):\n",
    "        with open('{}.txt'.format(self.file_name + '_' + datatype), 'wb') as f:\n",
    "            pickle.dump(data, f)\n",
    "    '''\n",
    "    def save_with_list(self):\n",
    "        with open('{}_list.txt'.format(self.keyword), 'wb') as f:\n",
    "            dataset = self.keyword.values()\n",
    "            pickle.dump(datasets)\n",
    "    '''\n",
    "    def load_data(self, filename):\n",
    "        with open(filename, 'rb') as f:\n",
    "            dataset = pickle.load(f)\n",
    "        return dataset\n",
    "    \n",
    "    def main(self):\n",
    "        self.chrome_open()\n",
    "        self.insta_keyword()\n",
    "        self.crawling()\n",
    "        self.save_data(self.keyword_dic, 'dic')\n",
    "        self.save_data(self.dataset, 'list')\n",
    "        self.driver.quit()"
   ]
  },
  {
   "cell_type": "code",
   "execution_count": 2,
   "metadata": {},
   "outputs": [],
   "source": [
    "intake = Insta(keyword = '인테이크', number = '100', file_name = 'intake', mode='None')"
   ]
  },
  {
   "cell_type": "code",
   "execution_count": 3,
   "metadata": {
    "scrolled": false
   },
   "outputs": [
    {
     "name": "stdout",
     "output_type": "stream",
     "text": [
      "get user_id\n",
      "\n",
      "\n",
      "0 finished\n",
      "1 user_id Message: stale element reference: element is not attached to the page document\n",
      "  (Session info: chrome=67.0.3396.99)\n",
      "  (Driver info: chromedriver=2.38.552522 (437e6fbedfa8762dec75e2c5b3ddb86763dc9dcb),platform=Windows NT 10.0.17134 x86_64)\n",
      "\n",
      "get user_id\n",
      "\n",
      "\n",
      "1 finished\n",
      "2 user_id Message: stale element reference: element is not attached to the page document\n",
      "  (Session info: chrome=67.0.3396.99)\n",
      "  (Driver info: chromedriver=2.38.552522 (437e6fbedfa8762dec75e2c5b3ddb86763dc9dcb),platform=Windows NT 10.0.17134 x86_64)\n",
      "\n",
      "get user_id\n",
      "\n",
      "\n",
      "2 finished\n",
      "get user_id\n",
      "\n",
      "\n",
      "3 finished\n",
      "4 user_id Message: stale element reference: element is not attached to the page document\n",
      "  (Session info: chrome=67.0.3396.99)\n",
      "  (Driver info: chromedriver=2.38.552522 (437e6fbedfa8762dec75e2c5b3ddb86763dc9dcb),platform=Windows NT 10.0.17134 x86_64)\n",
      "\n",
      "get user_id\n",
      "\n",
      "\n",
      "4 finished\n",
      "get user_id\n",
      "\n",
      "\n",
      "5 finished\n",
      "6 user_id Message: stale element reference: element is not attached to the page document\n",
      "  (Session info: chrome=67.0.3396.99)\n",
      "  (Driver info: chromedriver=2.38.552522 (437e6fbedfa8762dec75e2c5b3ddb86763dc9dcb),platform=Windows NT 10.0.17134 x86_64)\n",
      "\n",
      "get user_id\n",
      "\n",
      "\n",
      "6 finished\n",
      "7 user_id Message: stale element reference: element is not attached to the page document\n",
      "  (Session info: chrome=67.0.3396.99)\n",
      "  (Driver info: chromedriver=2.38.552522 (437e6fbedfa8762dec75e2c5b3ddb86763dc9dcb),platform=Windows NT 10.0.17134 x86_64)\n",
      "\n",
      "get user_id\n",
      "\n",
      "\n",
      "below 11\n",
      "7 finished\n",
      "get user_id\n",
      "\n",
      "\n",
      "8 finished\n",
      "get user_id\n",
      "\n",
      "\n",
      "below 11\n",
      "9 finished\n",
      "get user_id\n",
      "\n",
      "\n",
      "10 finished\n",
      "get user_id\n",
      "\n",
      "\n",
      "below 11\n",
      "11 finished\n",
      "get user_id\n",
      "\n",
      "\n",
      "12 finished\n",
      "get user_id\n",
      "\n",
      "\n",
      "13 finished\n",
      "get user_id\n",
      "\n",
      "\n",
      "below 11\n",
      "14 finished\n",
      "get user_id\n",
      "\n",
      "\n",
      "below 11\n",
      "15 finished\n",
      "16 user_id Message: stale element reference: element is not attached to the page document\n",
      "  (Session info: chrome=67.0.3396.99)\n",
      "  (Driver info: chromedriver=2.38.552522 (437e6fbedfa8762dec75e2c5b3ddb86763dc9dcb),platform=Windows NT 10.0.17134 x86_64)\n",
      "\n",
      "get user_id\n",
      "\n",
      "\n",
      "16 finished\n",
      "get user_id\n",
      "\n",
      "\n",
      "17 finished\n",
      "18 user_id Message: stale element reference: element is not attached to the page document\n",
      "  (Session info: chrome=67.0.3396.99)\n",
      "  (Driver info: chromedriver=2.38.552522 (437e6fbedfa8762dec75e2c5b3ddb86763dc9dcb),platform=Windows NT 10.0.17134 x86_64)\n",
      "\n",
      "get user_id\n",
      "\n",
      "\n",
      "below 11\n",
      "18 finished\n",
      "get user_id\n",
      "\n",
      "\n",
      "19 finished\n",
      "20 user_id Message: stale element reference: element is not attached to the page document\n",
      "  (Session info: chrome=67.0.3396.99)\n",
      "  (Driver info: chromedriver=2.38.552522 (437e6fbedfa8762dec75e2c5b3ddb86763dc9dcb),platform=Windows NT 10.0.17134 x86_64)\n",
      "\n",
      "get user_id\n",
      "\n",
      "\n",
      "20 finished\n",
      "21 user_id Message: stale element reference: element is not attached to the page document\n",
      "  (Session info: chrome=67.0.3396.99)\n",
      "  (Driver info: chromedriver=2.38.552522 (437e6fbedfa8762dec75e2c5b3ddb86763dc9dcb),platform=Windows NT 10.0.17134 x86_64)\n",
      "\n",
      "get user_id\n",
      "\n",
      "\n",
      "21 finished\n",
      "get user_id\n",
      "\n",
      "\n",
      "22 finished\n",
      "get user_id\n",
      "\n",
      "\n",
      "23 finished\n",
      "get user_id\n",
      "\n",
      "\n",
      "24 finished\n",
      "25 user_id Message: stale element reference: element is not attached to the page document\n",
      "  (Session info: chrome=67.0.3396.99)\n",
      "  (Driver info: chromedriver=2.38.552522 (437e6fbedfa8762dec75e2c5b3ddb86763dc9dcb),platform=Windows NT 10.0.17134 x86_64)\n",
      "\n",
      "get user_id\n",
      "\n",
      "\n",
      "below 11\n",
      "25 finished\n",
      "26 user_id Message: stale element reference: element is not attached to the page document\n",
      "  (Session info: chrome=67.0.3396.99)\n",
      "  (Driver info: chromedriver=2.38.552522 (437e6fbedfa8762dec75e2c5b3ddb86763dc9dcb),platform=Windows NT 10.0.17134 x86_64)\n",
      "\n",
      "get user_id\n",
      "\n",
      "\n",
      "26 finished\n",
      "get user_id\n",
      "\n",
      "\n",
      "27 finished\n",
      "28 user_id Message: stale element reference: element is not attached to the page document\n",
      "  (Session info: chrome=67.0.3396.99)\n",
      "  (Driver info: chromedriver=2.38.552522 (437e6fbedfa8762dec75e2c5b3ddb86763dc9dcb),platform=Windows NT 10.0.17134 x86_64)\n",
      "\n",
      "get user_id\n",
      "\n",
      "\n",
      "28 finished\n",
      "29 user_id Message: stale element reference: element is not attached to the page document\n",
      "  (Session info: chrome=67.0.3396.99)\n",
      "  (Driver info: chromedriver=2.38.552522 (437e6fbedfa8762dec75e2c5b3ddb86763dc9dcb),platform=Windows NT 10.0.17134 x86_64)\n",
      "\n",
      "get user_id\n",
      "\n",
      "\n",
      "29 finished\n",
      "30 user_id Message: stale element reference: element is not attached to the page document\n",
      "  (Session info: chrome=67.0.3396.99)\n",
      "  (Driver info: chromedriver=2.38.552522 (437e6fbedfa8762dec75e2c5b3ddb86763dc9dcb),platform=Windows NT 10.0.17134 x86_64)\n",
      "\n",
      "get user_id\n",
      "\n",
      "\n",
      "below 11\n",
      "30 finished\n",
      "get user_id\n",
      "\n",
      "\n",
      "31 finished\n",
      "get user_id\n",
      "\n",
      "\n",
      "32 finished\n",
      "get user_id\n",
      "\n",
      "\n",
      "below 11\n",
      "33 finished\n",
      "get user_id\n",
      "\n",
      "\n",
      "34 finished\n",
      "35 user_id Message: stale element reference: element is not attached to the page document\n",
      "  (Session info: chrome=67.0.3396.99)\n",
      "  (Driver info: chromedriver=2.38.552522 (437e6fbedfa8762dec75e2c5b3ddb86763dc9dcb),platform=Windows NT 10.0.17134 x86_64)\n",
      "\n",
      "get user_id\n",
      "\n",
      "\n",
      "35 finished\n",
      "36 user_id Message: stale element reference: element is not attached to the page document\n",
      "  (Session info: chrome=67.0.3396.99)\n",
      "  (Driver info: chromedriver=2.38.552522 (437e6fbedfa8762dec75e2c5b3ddb86763dc9dcb),platform=Windows NT 10.0.17134 x86_64)\n",
      "\n",
      "get user_id\n",
      "\n",
      "\n",
      "36 finished\n",
      "37 user_id Message: stale element reference: element is not attached to the page document\n",
      "  (Session info: chrome=67.0.3396.99)\n",
      "  (Driver info: chromedriver=2.38.552522 (437e6fbedfa8762dec75e2c5b3ddb86763dc9dcb),platform=Windows NT 10.0.17134 x86_64)\n",
      "\n",
      "get user_id\n",
      "\n",
      "\n",
      "37 finished\n",
      "get user_id\n",
      "\n",
      "\n",
      "38 finished\n",
      "get user_id\n",
      "\n",
      "\n",
      "39 finished\n",
      "40 user_id Message: stale element reference: element is not attached to the page document\n",
      "  (Session info: chrome=67.0.3396.99)\n",
      "  (Driver info: chromedriver=2.38.552522 (437e6fbedfa8762dec75e2c5b3ddb86763dc9dcb),platform=Windows NT 10.0.17134 x86_64)\n",
      "\n",
      "get user_id\n",
      "\n",
      "\n",
      "below 11\n",
      "40 finished\n",
      "get user_id\n",
      "\n",
      "\n",
      "below 11\n",
      "41 finished\n",
      "get user_id\n",
      "\n",
      "\n",
      "42 finished\n",
      "get user_id\n",
      "\n",
      "\n",
      "43 finished\n",
      "44 user_id Message: stale element reference: element is not attached to the page document\n",
      "  (Session info: chrome=67.0.3396.99)\n",
      "  (Driver info: chromedriver=2.38.552522 (437e6fbedfa8762dec75e2c5b3ddb86763dc9dcb),platform=Windows NT 10.0.17134 x86_64)\n",
      "\n",
      "get user_id\n",
      "\n",
      "\n",
      "44 finished\n",
      "45 user_id Message: stale element reference: element is not attached to the page document\n",
      "  (Session info: chrome=67.0.3396.99)\n",
      "  (Driver info: chromedriver=2.38.552522 (437e6fbedfa8762dec75e2c5b3ddb86763dc9dcb),platform=Windows NT 10.0.17134 x86_64)\n",
      "\n",
      "get user_id\n",
      "\n",
      "\n",
      "45 finished\n",
      "get user_id\n",
      "\n",
      "\n",
      "46 finished\n",
      "get user_id\n",
      "\n",
      "\n",
      "47 finished\n",
      "get user_id\n",
      "\n",
      "\n",
      "48 finished\n",
      "get user_id\n",
      "\n",
      "\n",
      "49 finished\n",
      "get user_id\n",
      "\n",
      "\n",
      "50 finished\n",
      "get user_id\n",
      "\n",
      "\n",
      "51 finished\n",
      "get user_id\n",
      "\n",
      "\n",
      "below 11\n",
      "52 finished\n",
      "53 user_id Message: stale element reference: element is not attached to the page document\n",
      "  (Session info: chrome=67.0.3396.99)\n",
      "  (Driver info: chromedriver=2.38.552522 (437e6fbedfa8762dec75e2c5b3ddb86763dc9dcb),platform=Windows NT 10.0.17134 x86_64)\n",
      "\n",
      "get user_id\n",
      "\n",
      "\n",
      "53 finished\n",
      "get user_id\n",
      "\n",
      "\n",
      "below 11\n",
      "54 finished\n",
      "get user_id\n",
      "\n",
      "\n",
      "below 11\n",
      "55 finished\n",
      "get user_id\n",
      "\n",
      "\n",
      "56 finished\n",
      "get user_id\n",
      "\n",
      "\n",
      "below 11\n",
      "57 finished\n",
      "get user_id\n",
      "\n",
      "\n",
      "58 finished\n",
      "get user_id\n",
      "\n",
      "\n",
      "59 finished\n",
      "get user_id\n",
      "\n",
      "\n",
      "60 finished\n",
      "61 user_id Message: stale element reference: element is not attached to the page document\n",
      "  (Session info: chrome=67.0.3396.99)\n",
      "  (Driver info: chromedriver=2.38.552522 (437e6fbedfa8762dec75e2c5b3ddb86763dc9dcb),platform=Windows NT 10.0.17134 x86_64)\n",
      "\n",
      "get user_id\n",
      "\n",
      "\n",
      "61 finished\n",
      "62 user_id Message: stale element reference: element is not attached to the page document\n",
      "  (Session info: chrome=67.0.3396.99)\n",
      "  (Driver info: chromedriver=2.38.552522 (437e6fbedfa8762dec75e2c5b3ddb86763dc9dcb),platform=Windows NT 10.0.17134 x86_64)\n",
      "\n",
      "get user_id\n",
      "\n",
      "\n",
      "62 finished\n",
      "get user_id\n",
      "\n",
      "\n",
      "63 finished\n",
      "get user_id\n",
      "\n",
      "\n",
      "below 11\n",
      "64 finished\n",
      "get user_id\n",
      "\n",
      "\n",
      "below 11\n",
      "65 finished\n",
      "get user_id\n",
      "\n",
      "\n",
      "66 finished\n",
      "get user_id\n",
      "\n",
      "\n",
      "67 finished\n",
      "get user_id\n",
      "\n",
      "\n",
      "68 finished\n",
      "69 user_id Message: stale element reference: element is not attached to the page document\n",
      "  (Session info: chrome=67.0.3396.99)\n",
      "  (Driver info: chromedriver=2.38.552522 (437e6fbedfa8762dec75e2c5b3ddb86763dc9dcb),platform=Windows NT 10.0.17134 x86_64)\n",
      "\n",
      "get user_id\n",
      "\n",
      "\n",
      "69 finished\n",
      "get user_id\n",
      "\n",
      "\n",
      "70 finished\n",
      "get user_id\n",
      "\n",
      "\n",
      "below 11\n",
      "71 finished\n",
      "get user_id\n",
      "\n",
      "\n",
      "72 finished\n",
      "get user_id\n",
      "\n",
      "\n",
      "73 finished\n",
      "get user_id\n",
      "\n",
      "\n",
      "74 finished\n",
      "get user_id\n",
      "\n",
      "\n",
      "75 finished\n",
      "76 user_id Message: stale element reference: element is not attached to the page document\n",
      "  (Session info: chrome=67.0.3396.99)\n",
      "  (Driver info: chromedriver=2.38.552522 (437e6fbedfa8762dec75e2c5b3ddb86763dc9dcb),platform=Windows NT 10.0.17134 x86_64)\n",
      "\n",
      "get user_id\n",
      "\n",
      "\n"
     ]
    },
    {
     "name": "stdout",
     "output_type": "stream",
     "text": [
      "below 11\n",
      "76 finished\n",
      "get user_id\n",
      "\n",
      "\n",
      "77 finished\n",
      "get user_id\n",
      "\n",
      "\n",
      "78 finished\n",
      "get user_id\n",
      "\n",
      "\n",
      "79 finished\n",
      "get user_id\n",
      "\n",
      "\n",
      "80 finished\n",
      "get user_id\n",
      "\n",
      "\n",
      "81 finished\n",
      "get user_id\n",
      "\n",
      "\n",
      "82 finished\n",
      "83 user_id Message: stale element reference: element is not attached to the page document\n",
      "  (Session info: chrome=67.0.3396.99)\n",
      "  (Driver info: chromedriver=2.38.552522 (437e6fbedfa8762dec75e2c5b3ddb86763dc9dcb),platform=Windows NT 10.0.17134 x86_64)\n",
      "\n",
      "get user_id\n",
      "\n",
      "\n",
      "83 finished\n",
      "84 user_id Message: stale element reference: element is not attached to the page document\n",
      "  (Session info: chrome=67.0.3396.99)\n",
      "  (Driver info: chromedriver=2.38.552522 (437e6fbedfa8762dec75e2c5b3ddb86763dc9dcb),platform=Windows NT 10.0.17134 x86_64)\n",
      "\n",
      "get user_id\n",
      "\n",
      "\n",
      "84 finished\n",
      "get user_id\n",
      "\n",
      "\n",
      "85 finished\n",
      "get user_id\n",
      "\n",
      "\n",
      "86 finished\n",
      "get user_id\n",
      "\n",
      "\n",
      "87 finished\n",
      "get user_id\n",
      "\n",
      "\n",
      "below 11\n",
      "88 finished\n",
      "get user_id\n",
      "\n",
      "\n",
      "89 finished\n",
      "90 user_id Message: stale element reference: element is not attached to the page document\n",
      "  (Session info: chrome=67.0.3396.99)\n",
      "  (Driver info: chromedriver=2.38.552522 (437e6fbedfa8762dec75e2c5b3ddb86763dc9dcb),platform=Windows NT 10.0.17134 x86_64)\n",
      "\n",
      "get user_id\n",
      "\n",
      "\n",
      "90 finished\n",
      "91 user_id Message: stale element reference: element is not attached to the page document\n",
      "  (Session info: chrome=67.0.3396.99)\n",
      "  (Driver info: chromedriver=2.38.552522 (437e6fbedfa8762dec75e2c5b3ddb86763dc9dcb),platform=Windows NT 10.0.17134 x86_64)\n",
      "\n",
      "get user_id\n",
      "\n",
      "\n",
      "91 finished\n",
      "get user_id\n",
      "\n",
      "\n",
      "92 finished\n",
      "93 user_id Message: stale element reference: element is not attached to the page document\n",
      "  (Session info: chrome=67.0.3396.99)\n",
      "  (Driver info: chromedriver=2.38.552522 (437e6fbedfa8762dec75e2c5b3ddb86763dc9dcb),platform=Windows NT 10.0.17134 x86_64)\n",
      "\n",
      "get user_id\n",
      "\n",
      "\n",
      "93 finished\n",
      "get user_id\n",
      "\n",
      "\n",
      "94 finished\n",
      "get user_id\n",
      "\n",
      "\n",
      "below 11\n",
      "95 finished\n",
      "96 user_id Message: stale element reference: element is not attached to the page document\n",
      "  (Session info: chrome=67.0.3396.99)\n",
      "  (Driver info: chromedriver=2.38.552522 (437e6fbedfa8762dec75e2c5b3ddb86763dc9dcb),platform=Windows NT 10.0.17134 x86_64)\n",
      "\n",
      "get user_id\n",
      "\n",
      "\n",
      "96 finished\n",
      "get user_id\n",
      "\n",
      "\n",
      "97 finished\n",
      "98 user_id Message: stale element reference: element is not attached to the page document\n",
      "  (Session info: chrome=67.0.3396.99)\n",
      "  (Driver info: chromedriver=2.38.552522 (437e6fbedfa8762dec75e2c5b3ddb86763dc9dcb),platform=Windows NT 10.0.17134 x86_64)\n",
      "\n",
      "get user_id\n",
      "\n",
      "\n",
      "below 11\n",
      "98 finished\n",
      "get user_id\n",
      "\n",
      "\n",
      "99 finished\n"
     ]
    }
   ],
   "source": [
    "intake.main()"
   ]
  },
  {
   "cell_type": "code",
   "execution_count": 1,
   "metadata": {},
   "outputs": [
    {
     "ename": "NameError",
     "evalue": "name 'intake' is not defined",
     "output_type": "error",
     "traceback": [
      "\u001b[1;31m---------------------------------------------------------------------------\u001b[0m",
      "\u001b[1;31mNameError\u001b[0m                                 Traceback (most recent call last)",
      "\u001b[1;32m<ipython-input-1-c95217da7e1d>\u001b[0m in \u001b[0;36m<module>\u001b[1;34m()\u001b[0m\n\u001b[0;32m      1\u001b[0m \u001b[1;31m#intake.chrome_open()\u001b[0m\u001b[1;33m\u001b[0m\u001b[1;33m\u001b[0m\u001b[0m\n\u001b[1;32m----> 2\u001b[1;33m \u001b[0mintake\u001b[0m\u001b[1;33m.\u001b[0m\u001b[0minsta_keyword\u001b[0m\u001b[1;33m(\u001b[0m\u001b[1;33m)\u001b[0m\u001b[1;33m\u001b[0m\u001b[0m\n\u001b[0m",
      "\u001b[1;31mNameError\u001b[0m: name 'intake' is not defined"
     ]
    }
   ],
   "source": [
    "#intake.chrome_open()\n",
    "intake.insta_keyword()"
   ]
  },
  {
   "cell_type": "code",
   "execution_count": 28,
   "metadata": {},
   "outputs": [],
   "source": [
    "intake.driver.quit()"
   ]
  },
  {
   "cell_type": "code",
   "execution_count": 6,
   "metadata": {},
   "outputs": [],
   "source": [
    "def save_data(data, datatype='list'):\n",
    "    with open('{}.txt'.format('intake_' + datatype), 'wb') as f:\n",
    "        pickle.dump(data, f)\n",
    "        \n",
    "save_data(intake.dataset)\n",
    "save_data(intake.keyword_dic, 'dic')\n",
    "        \n"
   ]
  },
  {
   "cell_type": "markdown",
   "metadata": {
    "scrolled": false
   },
   "source": [
    "test = Insta(keyword = '모닝죽검은콩', number = 'total', dir_name = '모닝죽검은콩', mode='headless')\n",
    "\n",
    "test.chrome_open()\n",
    "\n",
    "test.insta_keyword()\n",
    "\n",
    "time.sleep(3)\n",
    "\n",
    "test.crawling()\n",
    "\n",
    "test.save_data()\n",
    "\n",
    "test.driver.quit()\n",
    "\n",
    "\n",
    "print(len(list(test.keyword_dic.items())))\n",
    "\n",
    "\n",
    "main_text = [len(test.keyword_dic[i]['main_text']) for i in test.keyword_dic]\n",
    "\n",
    "print(sum(main_text))\n",
    "\n",
    "import pickle\n",
    "with open('test.txt', 'wb') as f:\n",
    "    pickle.dump(test.keyword_dic, f)\n",
    "\n",
    "with open('test.txt', 'rb') as f:\n",
    "    test_dic = pickle.load(f)\n",
    "\n",
    "test_dic['intakefoods']\n",
    "\n",
    "test_list = list(test_dic.values())\n",
    "\n",
    "test_list[:2]\n",
    "\n",
    "\n",
    "\n",
    "test.keyword_dic['intakefoods']\n",
    "\n",
    "print(test.user_ids)"
   ]
  },
  {
   "cell_type": "code",
   "execution_count": null,
   "metadata": {
    "collapsed": true
   },
   "outputs": [],
   "source": []
  },
  {
   "cell_type": "code",
   "execution_count": null,
   "metadata": {
    "collapsed": true
   },
   "outputs": [],
   "source": []
  },
  {
   "cell_type": "code",
   "execution_count": null,
   "metadata": {
    "collapsed": true
   },
   "outputs": [],
   "source": []
  },
  {
   "cell_type": "code",
   "execution_count": null,
   "metadata": {
    "collapsed": true
   },
   "outputs": [],
   "source": []
  },
  {
   "cell_type": "code",
   "execution_count": null,
   "metadata": {
    "collapsed": true
   },
   "outputs": [],
   "source": []
  },
  {
   "cell_type": "code",
   "execution_count": null,
   "metadata": {
    "collapsed": true
   },
   "outputs": [],
   "source": []
  },
  {
   "cell_type": "code",
   "execution_count": null,
   "metadata": {
    "collapsed": true
   },
   "outputs": [],
   "source": []
  },
  {
   "cell_type": "code",
   "execution_count": null,
   "metadata": {
    "collapsed": true
   },
   "outputs": [],
   "source": []
  },
  {
   "cell_type": "code",
   "execution_count": null,
   "metadata": {
    "collapsed": true
   },
   "outputs": [],
   "source": []
  },
  {
   "cell_type": "code",
   "execution_count": null,
   "metadata": {
    "collapsed": true
   },
   "outputs": [],
   "source": []
  },
  {
   "cell_type": "code",
   "execution_count": null,
   "metadata": {
    "collapsed": true
   },
   "outputs": [],
   "source": []
  },
  {
   "cell_type": "code",
   "execution_count": null,
   "metadata": {
    "collapsed": true
   },
   "outputs": [],
   "source": []
  },
  {
   "cell_type": "code",
   "execution_count": null,
   "metadata": {
    "collapsed": true
   },
   "outputs": [],
   "source": []
  },
  {
   "cell_type": "code",
   "execution_count": null,
   "metadata": {
    "collapsed": true
   },
   "outputs": [],
   "source": []
  },
  {
   "cell_type": "code",
   "execution_count": null,
   "metadata": {
    "collapsed": true
   },
   "outputs": [],
   "source": []
  },
  {
   "cell_type": "code",
   "execution_count": null,
   "metadata": {
    "collapsed": true
   },
   "outputs": [],
   "source": []
  },
  {
   "cell_type": "code",
   "execution_count": null,
   "metadata": {
    "collapsed": true
   },
   "outputs": [],
   "source": []
  },
  {
   "cell_type": "code",
   "execution_count": null,
   "metadata": {
    "collapsed": true
   },
   "outputs": [],
   "source": []
  },
  {
   "cell_type": "code",
   "execution_count": 60,
   "metadata": {
    "collapsed": true
   },
   "outputs": [],
   "source": [
    "a = [i for i in keyword_dic.keys()]"
   ]
  },
  {
   "cell_type": "code",
   "execution_count": null,
   "metadata": {
    "collapsed": true
   },
   "outputs": [],
   "source": [
    "a[100]"
   ]
  },
  {
   "cell_type": "code",
   "execution_count": null,
   "metadata": {
    "collapsed": true
   },
   "outputs": [],
   "source": []
  },
  {
   "cell_type": "code",
   "execution_count": null,
   "metadata": {
    "collapsed": true
   },
   "outputs": [],
   "source": []
  },
  {
   "cell_type": "code",
   "execution_count": null,
   "metadata": {
    "collapsed": true
   },
   "outputs": [],
   "source": [
    "    checker = True\n",
    "    while checker:\n",
    "        try:\n",
    "            WebDriverWait(intake.driver, 3).until(EC.text_to_be_present_in_element_by_css_selector('ul.Xl2Pu>li>span>a:last-child', hashtags[-1]))\n",
    "            print(1)\n",
    "        except:\n",
    "            checker = False\n",
    "            print(2)\n",
    "                                                  \n",
    "                                                  \n",
    "    # waiting = WebDriverWait(intake.driver, 3).until(EC.staleness_of(main_text.find_elements_by_tag_name('a')[-1]))\n",
    "    \n",
    "        "
   ]
  },
  {
   "cell_type": "code",
   "execution_count": 18,
   "metadata": {
    "collapsed": true
   },
   "outputs": [],
   "source": [
    "intake.driver.quit()"
   ]
  },
  {
   "cell_type": "code",
   "execution_count": 32,
   "metadata": {},
   "outputs": [
    {
     "data": {
      "text/plain": [
       "'.myday_1027'"
      ]
     },
     "execution_count": 32,
     "metadata": {},
     "output_type": "execute_result"
    }
   ],
   "source": [
    "hashtags[0]"
   ]
  },
  {
   "cell_type": "code",
   "execution_count": null,
   "metadata": {
    "collapsed": true
   },
   "outputs": [],
   "source": [
    "keyword_dic[a[100]]"
   ]
  },
  {
   "cell_type": "code",
   "execution_count": 60,
   "metadata": {
    "collapsed": true
   },
   "outputs": [],
   "source": [
    "texts = intake.driver.find_element_by_css_selector('ul.Xl2Pu > li:last-child').text"
   ]
  },
  {
   "cell_type": "code",
   "execution_count": 61,
   "metadata": {},
   "outputs": [
    {
     "data": {
      "text/plain": [
       "'eo_s__g행님 광주에서머함'"
      ]
     },
     "execution_count": 61,
     "metadata": {},
     "output_type": "execute_result"
    }
   ],
   "source": [
    "texts"
   ]
  },
  {
   "cell_type": "code",
   "execution_count": 168,
   "metadata": {
    "collapsed": true
   },
   "outputs": [],
   "source": [
    "a = [z.text for z in texts[0].find_elements_by_tag_name('a')]"
   ]
  },
  {
   "cell_type": "code",
   "execution_count": 170,
   "metadata": {},
   "outputs": [
    {
     "data": {
      "text/plain": [
       "'#점심'"
      ]
     },
     "execution_count": 170,
     "metadata": {},
     "output_type": "execute_result"
    }
   ],
   "source": [
    "a[1]"
   ]
  },
  {
   "cell_type": "code",
   "execution_count": 51,
   "metadata": {},
   "outputs": [
    {
     "data": {
      "text/plain": [
       "661"
      ]
     },
     "execution_count": 51,
     "metadata": {},
     "output_type": "execute_result"
    }
   ],
   "source": [
    "len(keyword_dic)"
   ]
  },
  {
   "cell_type": "code",
   "execution_count": null,
   "metadata": {
    "collapsed": true
   },
   "outputs": [],
   "source": []
  },
  {
   "cell_type": "code",
   "execution_count": 52,
   "metadata": {
    "collapsed": true
   },
   "outputs": [],
   "source": [
    "all_h = []\n",
    "for i in keyword_dic:\n",
    "    for j in keyword_dic[i]['hashtags']:\n",
    "        all_h.extend(j)"
   ]
  },
  {
   "cell_type": "code",
   "execution_count": null,
   "metadata": {
    "collapsed": true
   },
   "outputs": [],
   "source": [
    "all_h"
   ]
  },
  {
   "cell_type": "code",
   "execution_count": 54,
   "metadata": {
    "collapsed": true
   },
   "outputs": [],
   "source": [
    "word_count = Counter(all_h)\n",
    "word_count2 = []\n",
    "for i in word_count:\n",
    "    word_count2.append((i, word_count[i]))\n",
    "\n",
    "word_count2 = sorted(word_count2, key=lambda x: x[1], reverse = True)"
   ]
  },
  {
   "cell_type": "code",
   "execution_count": null,
   "metadata": {
    "collapsed": true
   },
   "outputs": [],
   "source": [
    "word_count2"
   ]
  },
  {
   "cell_type": "code",
   "execution_count": 45,
   "metadata": {
    "collapsed": true
   },
   "outputs": [],
   "source": [
    "user_id = article.find_element_by_css_selector('div.e1e1d').text"
   ]
  },
  {
   "cell_type": "code",
   "execution_count": 46,
   "metadata": {},
   "outputs": [
    {
     "data": {
      "text/plain": [
       "'d_ddang2'"
      ]
     },
     "execution_count": 46,
     "metadata": {},
     "output_type": "execute_result"
    }
   ],
   "source": [
    "for i in "
   ]
  },
  {
   "cell_type": "code",
   "execution_count": 72,
   "metadata": {
    "collapsed": true
   },
   "outputs": [],
   "source": [
    "texts = article.find_elements_by_css_selector('ul.Xl2Pu > li')"
   ]
  },
  {
   "cell_type": "code",
   "execution_count": 73,
   "metadata": {
    "collapsed": true
   },
   "outputs": [],
   "source": [
    "main_text = texts[0]"
   ]
  },
  {
   "cell_type": "code",
   "execution_count": null,
   "metadata": {
    "collapsed": true
   },
   "outputs": [],
   "source": [
    "comments = texts[1:]"
   ]
  },
  {
   "cell_type": "code",
   "execution_count": 74,
   "metadata": {
    "scrolled": true
   },
   "outputs": [
    {
     "data": {
      "text/plain": [
       "'d_ddang2#땅180617 #땅_아침🌿\\n.\\n밀스라이트(벨벳카카오)\\n.\\n오늘도 간단하게 챙겨나온 밀스라이트..! 근데 저번에 먹을때도 그랬지만 뚜껑 겁나 안열림...ㅠ 결국 칼로 뜯었었는데 오늘도 그랬다... 카페라떼 맛은 안 그런걸로 봐서 원래 그런건 아닌것 같고 불량품인가.. 남은것들도 다 칼로 따야하낰ㅋㅋㅋ 세상불편😭😭😭 아침에 바빠서 빨리먹어야 했는데 똑땅....다음병은 안그랬으면🙏\\n.\\n#아침식단#식단기록#다이어트식단#인테이크#밀스라이트#잇클린#다이어트#다이어터#다이어트그램'"
      ]
     },
     "execution_count": 74,
     "metadata": {},
     "output_type": "execute_result"
    }
   ],
   "source": [
    "main_text.text"
   ]
  },
  {
   "cell_type": "code",
   "execution_count": 75,
   "metadata": {
    "collapsed": true
   },
   "outputs": [],
   "source": [
    "hashtags = main_text.find_elements_by_tag_name('a')"
   ]
  },
  {
   "cell_type": "code",
   "execution_count": 76,
   "metadata": {},
   "outputs": [
    {
     "name": "stdout",
     "output_type": "stream",
     "text": [
      "_ddang2\n",
      "땅180617\n",
      "땅_아침🌿\n",
      "아침식단\n",
      "식단기록\n",
      "다이어트식단\n",
      "인테이크\n",
      "밀스라이트\n",
      "잇클린\n",
      "다이어트\n",
      "다이어터\n",
      "다이어트그램\n"
     ]
    }
   ],
   "source": [
    "for i in hashtags:\n",
    "    print(i.text[1:])"
   ]
  },
  {
   "cell_type": "code",
   "execution_count": 77,
   "metadata": {
    "collapsed": true
   },
   "outputs": [],
   "source": [
    "comments = texts[1:]"
   ]
  },
  {
   "cell_type": "code",
   "execution_count": 78,
   "metadata": {},
   "outputs": [
    {
     "name": "stdout",
     "output_type": "stream",
     "text": [
      "neverminddarlingㅜㅠ 잉 땅이님 바쁘신데 요눔~~~~!! 나머지 병들은 똑 열리길 바랄게유\n",
      "ddori_u아니진쨔..뚜껑..너의본분은..열리는것이란ㄴ다..잊으면안돼.. 땅이님 바쁜데 곤란하게하제말쟈..^_ㅜㅜㅜ\n",
      "d_ddang2@neverminddarling 진짴ㅋㅋㅋㅋ 제가 힘이약한것도 아닌데 당황해써요😭\n",
      "d_ddang2@ddori_u 앜ㅋㅋㅋㅋㅋ 또리님 졸귀...😆😆 후 뚜껑 부들부들... 밥먹게 해주라주!\n"
     ]
    }
   ],
   "source": [
    "for i in comments:\n",
    "    print(i.text)"
   ]
  },
  {
   "cell_type": "code",
   "execution_count": 79,
   "metadata": {
    "collapsed": true
   },
   "outputs": [],
   "source": [
    "likes = article.find_element_by_css_selector('span.zV_Nj>span').text"
   ]
  },
  {
   "cell_type": "code",
   "execution_count": 80,
   "metadata": {},
   "outputs": [
    {
     "data": {
      "text/plain": [
       "'61'"
      ]
     },
     "execution_count": 80,
     "metadata": {},
     "output_type": "execute_result"
    }
   ],
   "source": [
    "likes"
   ]
  },
  {
   "cell_type": "code",
   "execution_count": 81,
   "metadata": {
    "collapsed": true
   },
   "outputs": [],
   "source": [
    "next_button = intake.driver.find_element_by_css_selector('a.HBoOv.coreSpriteRightPaginationArrow')"
   ]
  },
  {
   "cell_type": "code",
   "execution_count": 82,
   "metadata": {
    "collapsed": true
   },
   "outputs": [],
   "source": [
    "next_button.click()"
   ]
  },
  {
   "cell_type": "code",
   "execution_count": null,
   "metadata": {
    "collapsed": true
   },
   "outputs": [],
   "source": []
  },
  {
   "cell_type": "code",
   "execution_count": null,
   "metadata": {
    "collapsed": true
   },
   "outputs": [],
   "source": []
  },
  {
   "cell_type": "code",
   "execution_count": null,
   "metadata": {
    "collapsed": true
   },
   "outputs": [],
   "source": []
  },
  {
   "cell_type": "code",
   "execution_count": null,
   "metadata": {
    "collapsed": true
   },
   "outputs": [],
   "source": []
  },
  {
   "cell_type": "code",
   "execution_count": null,
   "metadata": {
    "collapsed": true
   },
   "outputs": [],
   "source": [
    "from selenium import webdriver\n",
    "from selenium.webdriver.support.ui import WebDriverWait\n",
    "from selenium.webdriver.support import expected_conditions as EC\n",
    "from selenium.common.exceptions import NoAlertPresentException, NoSuchElementException, TimeoutException, StaleElementReferenceException, UnexpectedAlertPresentException\n",
    "from selenium.webdriver.common.by import By\n",
    "import os\n",
    "import urllib.request\n",
    "from collections import Counter\n",
    "\n",
    "\n",
    "class Insta():\n",
    "\n",
    "    def __init__(self, keyword, number, dir_name='images', mode='None'):\n",
    "        self.keyword = keyword\n",
    "        self.number = int(number)\n",
    "        self.dir_name = dir_name\n",
    "        self.mode = mode\n",
    "\n",
    "    def chrome_open(self):\n",
    "\n",
    "        self.options = webdriver.ChromeOptions()\n",
    "        if self.mode == 'headless':\n",
    "            self.options.add_argument('headless')\n",
    "        self.options.add_argument('window-size=1920x1080')\n",
    "        self.options.add_argument(\"disable-gpu\")\n",
    "        self.options.add_argument(\"user-agent=Mozilla/5.0 (Macintosh; Intel Mac OS X 10_12_6) AppleWebKit/537.36 (KHTML, like Gecko) Chrome/61.0.3163.100 Safari/537.36\")\n",
    "        self.options.add_argument(\"lang=ko_KR\") # 한국어!\n",
    "        self.options.add_argument(\"disable-infobars\")\n",
    "        self.driver = webdriver.Chrome('chromedriver', chrome_options=self.options)\n",
    "\n",
    "        self.driver.get('http://google.com')\n",
    "        self.driver.execute_script(\"Object.defineProperty(navigator, 'plugins', {get: function() {return[1, 2, 3, 4, 5]}})\")\n",
    "        self.driver.execute_script(\"Object.defineProperty(navigator, 'languages', {get: function() {return ['ko-KR', 'ko']}})\")\n",
    "        self.driver.execute_script(\"const getParameter = WebGLRenderingContext.getParameter;WebGLRenderingContext.prototype.getParameter = function(parameter) {if (parameter === 37445) {return 'NVIDIA Corporation'} if (parameter === 37446) {return 'NVIDIA GeForce GTX 980 Ti OpenGL Engine';}return getParameter(parameter);};\")\n",
    "\n",
    "        self.driver.implicitly_wait(10)\n",
    "\n",
    "    def crawling(self):\n",
    "        keyword_t = urllib.parse.urlencode({'': self.keyword})[1:]\n",
    "        self.driver.get('https://www.instagram.com/explore/tags/{}/?hl=ko'.format(keyword_t))\n",
    "        #iframe = WebDriverWait(self.driver, 10).until(EC.presence_of_element_located((By.NAME, 'fb_xdm_frame_https')))\n",
    "        #self.driver.switch_to.frame(iframe1)\n",
    "        self.total = int(self.driver.find_element_by_xpath(\n",
    "            '//*[@id=\"react-root\"]/section/main/article/header/div[2]/span/span').text.replace(',', ''))\n",
    "\n",
    "        self.txt_list = []\n",
    "        self.img_url = []\n",
    "        breaker = 0\n",
    "        breaker = [0, 0]\n",
    "        while True:\n",
    "            imgs = WebDriverWait(self.driver, 10).until(\n",
    "                EC.visibility_of_all_elements_located((By.CSS_SELECTOR, 'div.eLAPa>div>img')))\n",
    "            #imgs = WebDriverWait(self.driver, 10).until(\n",
    "             #   EC.visibility_of_all_elements_located((By.CSS_SELECTOR, 'div._e3il2>div>img')))\n",
    "            for idx, i in enumerate(imgs):\n",
    "                txt = i.get_attribute('alt')\n",
    "                url = i.get_attribute('src')\n",
    "                if not url in self.img_url:\n",
    "                    num = len(self.img_url) + 1\n",
    "                    self.img_url.append(url)\n",
    "                    self.txt_list.append(txt)\n",
    "                    urllib.request.urlretrieve(url, '{}/{}_{}.jpg'.format(self.dir_name, self.keyword, num))\n",
    "                if num >= self.number:\n",
    "                    break\n",
    "                elif num >= self.total:\n",
    "                    break\n",
    "\n",
    "            breaker.append(len(self.img_url))\n",
    "            try:\n",
    "                if breaker[-1] == breaker[-10]:\n",
    "                    break\n",
    "            except Exception as e:\n",
    "                pass\n",
    "\n",
    "            self.driver.execute_script(\"window.scrollTo(0, document.body.scrollHeight);\")\n",
    "\n",
    "\n",
    "    def makedir(self, dir_name):\n",
    "        if not os.path.exists(dir_name):\n",
    "            os.makedirs(dir_name)\n",
    "\n",
    "    def reviews(self):\n",
    "        f = open('{}/{}_reviews.txt'.format(self.dir_name, self.keyword), 'w', encoding='utf-8')\n",
    "        for idx, row in enumerate(self.txt_list):\n",
    "            f.write(str(idx+1) + '.\\n')\n",
    "            f.write(row)\n",
    "            f.write('\\n\\n\\n')\n",
    "        f.close()\n",
    "\n",
    "        self.txt_merge = []\n",
    "        for idx, row in enumerate(self.txt_list):\n",
    "            self.txt_merge.extend(row.split('#'))\n",
    "        for idx, row in enumerate(self.txt_merge):\n",
    "            self.txt_merge[idx] = row.strip()\n",
    "\n",
    "    def hashtags(self):\n",
    "        word_count = Counter(self.txt_merge)\n",
    "\n",
    "        word_count2 = []\n",
    "        for i in word_count:\n",
    "            word_count2.append((i, word_count[i]))\n",
    "\n",
    "        word_count2 = sorted(word_count2, key=lambda x: x[1], reverse = True)\n",
    "\n",
    "        with open('{}/{}_count.txt'.format(self.dir_name, self.keyword), 'w', encoding='utf-8') as f:\n",
    "            for i in word_count2:\n",
    "                f.write(str(i) + '\\n')\n",
    "\n",
    "    def img_crawling(self):\n",
    "        self.chrome_open()\n",
    "        self.makedir(self.dir_name)\n",
    "        self.crawling()\n",
    "\n",
    "    def quit(self):\n",
    "        self.driver.quit()\n",
    "\n",
    "\n"
   ]
  },
  {
   "cell_type": "code",
   "execution_count": 14,
   "metadata": {
    "collapsed": true
   },
   "outputs": [],
   "source": [
    "pajamas.reviews()\n",
    "\n",
    "pajamas.hashtags()\n",
    "\n",
    "pajamas.quit()"
   ]
  },
  {
   "cell_type": "code",
   "execution_count": 16,
   "metadata": {
    "collapsed": true
   },
   "outputs": [],
   "source": [
    "vr카페 = Insta(keyword = 'vr카페', number = 500, dir_name = 'vr카페', mode=None)\n",
    "\n",
    "vr카페.img_crawling()\n",
    "\n",
    "vr카페.reviews()\n",
    "\n",
    "vr카페.hashtags()\n",
    "\n",
    "vr카페.quit()"
   ]
  },
  {
   "cell_type": "code",
   "execution_count": null,
   "metadata": {
    "collapsed": true
   },
   "outputs": [],
   "source": []
  }
 ],
 "metadata": {
  "kernelspec": {
   "display_name": "Python 3",
   "language": "python",
   "name": "python3"
  },
  "language_info": {
   "codemirror_mode": {
    "name": "ipython",
    "version": 3
   },
   "file_extension": ".py",
   "mimetype": "text/x-python",
   "name": "python",
   "nbconvert_exporter": "python",
   "pygments_lexer": "ipython3",
   "version": "3.6.4"
  }
 },
 "nbformat": 4,
 "nbformat_minor": 2
}
