{
 "cells": [
  {
   "cell_type": "code",
   "execution_count": 1,
   "metadata": {},
   "outputs": [],
   "source": [
    "from ckonlpy.tag import Twitter\n",
    "import pickle\n",
    "import re\n",
    "import sys\n",
    "from gensim.models import TfidfModel\n",
    "from gensim.models import Word2Vec\n",
    "from gensim.corpora import Dictionary\n",
    "from pprint import pprint\n",
    "from collections import Counter\n",
    "import numpy as np\n",
    "import data_handler as handler\n",
    "import data_analyzer as analyzer\n",
    "from sklearn.feature_extraction.text import CountVectorizer\n",
    "from sklearn.decomposition import LatentDirichletAllocation\n",
    "import mglearn\n",
    "from pprint import pprint\n",
    "from ckonlpy.tag import Twitter\n",
    "import numpy as np\n",
    "import gc\n",
    "\n",
    "class Social_analysis():\n",
    "    \n",
    "    non_bmp_map = dict.fromkeys(range(0x10000, sys.maxunicode + 1), 0xfffd)\n",
    "\n",
    "    def __init__(self):\n",
    "        self.twitter = Twitter()\n",
    "        \n",
    "    def pickle_to_table(self, filename):\n",
    "        with open(filename, 'rb') as f:\n",
    "            data = pickle.load(f)\n",
    "        data = data[1:]\n",
    "        for idx, i in enumerate(data):\n",
    "            data[idx][2] = i[2].replace('#', ' ').translate(self.non_bmp_map)\n",
    "            data[idx][3] = '/'.join(i[3])\n",
    "            data[idx][4] = '/'.join(i[4])\n",
    "        self.row_data = np.array(data)\n",
    "  \n",
    "    def hashtags_split(self, hashtags):        \n",
    "        hashtags_split = []\n",
    "        for i in hashtags:\n",
    "            hashtags_split.append(i.split('/'))\n",
    "        \n",
    "        hashtags_list = []\n",
    "        \n",
    "        for i in hashtags_split:\n",
    "            temp = []\n",
    "            for j in i:\n",
    "                if self.isHangul(j):\n",
    "                    t_hashtags = j.translate(self.non_bmp_map)\n",
    "                    temp.append(t_hashtags)\n",
    "            hashtags_list.append(temp)\n",
    "        self.hashtags_list = hashtags_list\n",
    "        \n",
    "        return hashtags_list\n",
    "            \n",
    "\n",
    "        \n",
    "    def add_keyword_dic(self, keyword_list, tag='Noun'):\n",
    "        for i in keyword_list:\n",
    "            if len(i) == 1:\n",
    "                self.twitter.add_dictionary(i[0], tag)\n",
    "            else:\n",
    "                self.twitter.add_dictionary(i[0], i[1])\n",
    "        \n",
    "    def morph_pos(self, text_list, exception_list = ['맛', '밥', '물', '몸']):\n",
    "        \n",
    "        morph_list = []\n",
    "        noun_list = []\n",
    "        adj_list = []\n",
    "        verb_list = []\n",
    "        \n",
    "        for j in text_list:\n",
    "            parsed = self.twitter.pos(j)\n",
    "            temp = []\n",
    "            n_temp = []\n",
    "            adj_temp = []\n",
    "            verb_temp = []\n",
    "            \n",
    "            for i in parsed:\n",
    "                if self.isHangul(i[0]):\n",
    "                    if len(i[0]) > 1:\n",
    "                        temp.append(i)\n",
    "                        if i[1] == 'Noun':\n",
    "                            n_temp.append(i[0])\n",
    "                        elif i[1] == 'Verb':\n",
    "                            adj_temp.append(i[0])\n",
    "                        elif i[1] == 'Adjective':\n",
    "                            verb_temp.append(i[0])\n",
    "                        elif i in exception_list:\n",
    "                            temp.append(i)\n",
    "                else: print(i, '한글이 아닙니다.')\n",
    "            \n",
    "\n",
    "            morph_list.append(temp)\n",
    "            noun_list.append(n_temp)\n",
    "            adj_list.append(adj_temp)\n",
    "            verb_list.append(verb_temp)\n",
    "\n",
    "        nav_list = noun_list + adj_list + verb_list\n",
    "\n",
    "        return morph_list, nav_list, noun_list, adj_list, verb_list\n",
    "\n",
    "\n",
    "    def word_substitute(self, dataset, sublist):\n",
    "        dataset = dataset\n",
    "        sub_book = dict()\n",
    "        for i in sublist:\n",
    "            for j in i['sub_words']:\n",
    "                sub_book[j] = i['main']\n",
    "        gc.collect()\n",
    "        for n, i in enumerate(dataset):\n",
    "            dataset[n] = [sub_book.get(item,item) for item in i]\n",
    "\n",
    "        del sub_book\n",
    "        gc.collect()\n",
    "\n",
    "        return dataset\n",
    "    \n",
    "    def word_delete(dataset, del_list):\n",
    "        dataset = dataset\n",
    "\n",
    "        for n, line in enumerate(dataset):\n",
    "             dataset[n] = [i for i in line if i not in del_list]\n",
    "\n",
    "        return dataset\n",
    "\n",
    "    \n",
    "    def isHangul(self, text):\n",
    "        encText = text\n",
    "        hanCount = len(re.findall(u'[\\u3130-\\u318F\\uAC00-\\uD7A3]+', encText))\n",
    "        return hanCount > 0\n",
    "\n",
    "    \n",
    "\n",
    "class SB_Word2Vec():    \n",
    "    \n",
    "    def __init__(self, morph_list):\n",
    "        self.dct = Dictionary(morph_list)\n",
    "        self.corpus = [self.dct.doc2bow(line) for line in morph_list]\n",
    "        self.build_Word2Vec(morph_list)\n",
    "    \n",
    "    def make_Word2Vec(self, morph_list, size=50, window=2, min_count=10, iteration=100):\n",
    "        self.em = Word2Vec(morph_list, size=size, window=window, min_count=min_count, iter=iteration)\n",
    "        self.em_vocab = list(self.em.wv.vocab.keys())\n",
    "        self.em_vocab_dic = {word:idx for idx, word in enumerate(self.em_vocab)}\n",
    "\n",
    "    def make_Word2Sen_matrix(self): \n",
    "        vocab_size = len(self.em_vocab)\n",
    "        self.sen_matrix = np.zeros((len(self.corpus), vocab_size))\n",
    "        for idx, row in enumerate(self.sen_matrix):\n",
    "            for idx2, frequency in self.corpus[idx]:\n",
    "                    if self.dct[idx2] in self.em_vocab:\n",
    "                        self.sen_matrix[idx][self.em_vocab_dic[self.dct[idx2]]] = frequency                \n",
    "        self.sim_matrix = np.zeros((vocab_size, vocab_size))\n",
    "        for idx, w1 in enumerate(self.em_vocab):\n",
    "            for idx2, w2 in enumerate(self.em_vocab):\n",
    "                self.sim_matrix[idx][idx2] =  self.em.wv.similarity(w1, w2)\n",
    "\n",
    "        self.word2sen_matrix = np.dot(self.sim_matrix, np.transpose(self.sen_matrix))\n",
    "\n",
    "        return self.word2sen_matrix\n",
    "\n",
    "    def get_sim_sen(self, keyword, main_text_list, number=1):\n",
    "        self.sim_sen_index = np.argsort(self.word2sen_matrix[self.em_vocab_dic[keyword]])\n",
    "        self.most_sim_sen_index = np.argmax(self.word2sen_matrix[self.em_vocab_dic[keyword]])\n",
    "        index_list = self.sim_sen_index.reshape((-1,)).tolist()\n",
    "        index_list.reverse()\n",
    "        \n",
    "        for idx, i in enumerate(index_list[:number]):\n",
    "            print(str(idx + 1) + '. ', main_text_list[i])\n",
    "            print(main_hash_dic[main_text_list[i]])\n",
    "        return index_list\n",
    "    \n",
    "    def build_Word2Vec(self, morph_list):\n",
    "        self.make_Word2Vec(morph_list)\n",
    "        self.make_Word2Sen_matrix()\n",
    "        \n",
    "        \n",
    "class SB_LDA():\n",
    "\n",
    "    def make_lda(self, morph_joined, ntopic=10, learning_method='batch', max_iter=25, random_state=0, n_words=20):        \n",
    "        self.vect = CountVectorizer(max_features=10000, max_df=.15)\n",
    "        self.X = self.vect.fit_transform(morph_joined)\n",
    "        self.lda = LatentDirichletAllocation(n_components=ntopic, learning_method=learning_method, max_iter=max_iter, random_state=random_state)\n",
    "        self.document_topics = self.lda.fit_transform(self.X)\n",
    "        self.sorting = np.argsort(self.lda.components_, axis=1)[:, ::-1]\n",
    "        self.feature_names = np.array(vect.get_feature_names())\n",
    "        mglearn.tools.print_topics(topics=range(ntopic), feature_names=self.feature_names, sorting=self.sorting, topics_per_chunk=5, n_words=n_words)\n",
    "\n",
    "    def related_doc(self, main_text_list, number):\n",
    "        category = np.argsort(self.document_topics[:, number])[::-1]\n",
    "        related_docs = []\n",
    "        for i in category[:10]:\n",
    "            print(i)\n",
    "            print(main_text_list[i] + \".\\n\")\n",
    "            related_docs.append((i, main_text_list[i]))\n",
    "        return related_docs\n",
    "\n",
    "class SB_Tfidf():    \n",
    "    \n",
    "    def __init__(self, list_morph_merged):\n",
    "        self.list_morph_merged = list_morph_merged\n",
    "        self.dct = Dictionary(self.list_morph_merged)\n",
    "        self.corpus = [self.dct.doc2bow(line) for line in self.list_morph_merged]\n",
    "\n",
    "    def get_tfidf(self):       \n",
    "        self.model = TfidfModel(self.corpus)\n",
    "        self.tfidf = []\n",
    "        for i in self.corpus:\n",
    "             self.tfidf.append(sorted(self.model[i], key = lambda x: x[1], reverse=True))\n",
    "        self.tfidf_hangul = []\n",
    "        for idx1, i in enumerate(self.tfidf):\n",
    "            self.tfidf_hangul.append([(self.dct[j[0]], j[1]) for j in i])        \n",
    "        \n",
    "        return self.tfidf_hangul\n",
    "    \n",
    "def frequency(morph_merged):\n",
    "    word_count = Counter(merged)\n",
    "    word_count2 = []\n",
    "    for i in word_count:\n",
    "        word_count2.append((i, word_count[i]))\n",
    "    word_count2 = sorted(word_count2, key=lambda x: x[1], reverse = True)\n",
    "    return word_count2"
   ]
  },
  {
   "cell_type": "code",
   "execution_count": 2,
   "metadata": {},
   "outputs": [],
   "source": [
    "intake = Insta(keyword = '인테이크', number = '100', file_name = 'intake', mode='None')"
   ]
  },
  {
   "cell_type": "code",
   "execution_count": 3,
   "metadata": {
    "scrolled": false
   },
   "outputs": [
    {
     "name": "stdout",
     "output_type": "stream",
     "text": [
      "get user_id\n",
      "\n",
      "\n",
      "0 finished\n",
      "1 user_id Message: stale element reference: element is not attached to the page document\n",
      "  (Session info: chrome=67.0.3396.99)\n",
      "  (Driver info: chromedriver=2.38.552522 (437e6fbedfa8762dec75e2c5b3ddb86763dc9dcb),platform=Windows NT 10.0.17134 x86_64)\n",
      "\n",
      "get user_id\n",
      "\n",
      "\n",
      "1 finished\n",
      "2 user_id Message: stale element reference: element is not attached to the page document\n",
      "  (Session info: chrome=67.0.3396.99)\n",
      "  (Driver info: chromedriver=2.38.552522 (437e6fbedfa8762dec75e2c5b3ddb86763dc9dcb),platform=Windows NT 10.0.17134 x86_64)\n",
      "\n",
      "get user_id\n",
      "\n",
      "\n",
      "2 finished\n",
      "get user_id\n",
      "\n",
      "\n",
      "3 finished\n",
      "4 user_id Message: stale element reference: element is not attached to the page document\n",
      "  (Session info: chrome=67.0.3396.99)\n",
      "  (Driver info: chromedriver=2.38.552522 (437e6fbedfa8762dec75e2c5b3ddb86763dc9dcb),platform=Windows NT 10.0.17134 x86_64)\n",
      "\n",
      "get user_id\n",
      "\n",
      "\n",
      "4 finished\n",
      "get user_id\n",
      "\n",
      "\n",
      "5 finished\n",
      "6 user_id Message: stale element reference: element is not attached to the page document\n",
      "  (Session info: chrome=67.0.3396.99)\n",
      "  (Driver info: chromedriver=2.38.552522 (437e6fbedfa8762dec75e2c5b3ddb86763dc9dcb),platform=Windows NT 10.0.17134 x86_64)\n",
      "\n",
      "get user_id\n",
      "\n",
      "\n",
      "6 finished\n",
      "7 user_id Message: stale element reference: element is not attached to the page document\n",
      "  (Session info: chrome=67.0.3396.99)\n",
      "  (Driver info: chromedriver=2.38.552522 (437e6fbedfa8762dec75e2c5b3ddb86763dc9dcb),platform=Windows NT 10.0.17134 x86_64)\n",
      "\n",
      "get user_id\n",
      "\n",
      "\n",
      "below 11\n",
      "7 finished\n",
      "get user_id\n",
      "\n",
      "\n",
      "8 finished\n",
      "get user_id\n",
      "\n",
      "\n",
      "below 11\n",
      "9 finished\n",
      "get user_id\n",
      "\n",
      "\n",
      "10 finished\n",
      "get user_id\n",
      "\n",
      "\n",
      "below 11\n",
      "11 finished\n",
      "get user_id\n",
      "\n",
      "\n",
      "12 finished\n",
      "get user_id\n",
      "\n",
      "\n",
      "13 finished\n",
      "get user_id\n",
      "\n",
      "\n",
      "below 11\n",
      "14 finished\n",
      "get user_id\n",
      "\n",
      "\n",
      "below 11\n",
      "15 finished\n",
      "16 user_id Message: stale element reference: element is not attached to the page document\n",
      "  (Session info: chrome=67.0.3396.99)\n",
      "  (Driver info: chromedriver=2.38.552522 (437e6fbedfa8762dec75e2c5b3ddb86763dc9dcb),platform=Windows NT 10.0.17134 x86_64)\n",
      "\n",
      "get user_id\n",
      "\n",
      "\n",
      "16 finished\n",
      "get user_id\n",
      "\n",
      "\n",
      "17 finished\n",
      "18 user_id Message: stale element reference: element is not attached to the page document\n",
      "  (Session info: chrome=67.0.3396.99)\n",
      "  (Driver info: chromedriver=2.38.552522 (437e6fbedfa8762dec75e2c5b3ddb86763dc9dcb),platform=Windows NT 10.0.17134 x86_64)\n",
      "\n",
      "get user_id\n",
      "\n",
      "\n",
      "below 11\n",
      "18 finished\n",
      "get user_id\n",
      "\n",
      "\n",
      "19 finished\n",
      "20 user_id Message: stale element reference: element is not attached to the page document\n",
      "  (Session info: chrome=67.0.3396.99)\n",
      "  (Driver info: chromedriver=2.38.552522 (437e6fbedfa8762dec75e2c5b3ddb86763dc9dcb),platform=Windows NT 10.0.17134 x86_64)\n",
      "\n",
      "get user_id\n",
      "\n",
      "\n",
      "20 finished\n",
      "21 user_id Message: stale element reference: element is not attached to the page document\n",
      "  (Session info: chrome=67.0.3396.99)\n",
      "  (Driver info: chromedriver=2.38.552522 (437e6fbedfa8762dec75e2c5b3ddb86763dc9dcb),platform=Windows NT 10.0.17134 x86_64)\n",
      "\n",
      "get user_id\n",
      "\n",
      "\n",
      "21 finished\n",
      "get user_id\n",
      "\n",
      "\n",
      "22 finished\n",
      "get user_id\n",
      "\n",
      "\n",
      "23 finished\n",
      "get user_id\n",
      "\n",
      "\n",
      "24 finished\n",
      "25 user_id Message: stale element reference: element is not attached to the page document\n",
      "  (Session info: chrome=67.0.3396.99)\n",
      "  (Driver info: chromedriver=2.38.552522 (437e6fbedfa8762dec75e2c5b3ddb86763dc9dcb),platform=Windows NT 10.0.17134 x86_64)\n",
      "\n",
      "get user_id\n",
      "\n",
      "\n",
      "below 11\n",
      "25 finished\n",
      "26 user_id Message: stale element reference: element is not attached to the page document\n",
      "  (Session info: chrome=67.0.3396.99)\n",
      "  (Driver info: chromedriver=2.38.552522 (437e6fbedfa8762dec75e2c5b3ddb86763dc9dcb),platform=Windows NT 10.0.17134 x86_64)\n",
      "\n",
      "get user_id\n",
      "\n",
      "\n",
      "26 finished\n",
      "get user_id\n",
      "\n",
      "\n",
      "27 finished\n",
      "28 user_id Message: stale element reference: element is not attached to the page document\n",
      "  (Session info: chrome=67.0.3396.99)\n",
      "  (Driver info: chromedriver=2.38.552522 (437e6fbedfa8762dec75e2c5b3ddb86763dc9dcb),platform=Windows NT 10.0.17134 x86_64)\n",
      "\n",
      "get user_id\n",
      "\n",
      "\n",
      "28 finished\n",
      "29 user_id Message: stale element reference: element is not attached to the page document\n",
      "  (Session info: chrome=67.0.3396.99)\n",
      "  (Driver info: chromedriver=2.38.552522 (437e6fbedfa8762dec75e2c5b3ddb86763dc9dcb),platform=Windows NT 10.0.17134 x86_64)\n",
      "\n",
      "get user_id\n",
      "\n",
      "\n",
      "29 finished\n",
      "30 user_id Message: stale element reference: element is not attached to the page document\n",
      "  (Session info: chrome=67.0.3396.99)\n",
      "  (Driver info: chromedriver=2.38.552522 (437e6fbedfa8762dec75e2c5b3ddb86763dc9dcb),platform=Windows NT 10.0.17134 x86_64)\n",
      "\n",
      "get user_id\n",
      "\n",
      "\n",
      "below 11\n",
      "30 finished\n",
      "get user_id\n",
      "\n",
      "\n",
      "31 finished\n",
      "get user_id\n",
      "\n",
      "\n",
      "32 finished\n",
      "get user_id\n",
      "\n",
      "\n",
      "below 11\n",
      "33 finished\n",
      "get user_id\n",
      "\n",
      "\n",
      "34 finished\n",
      "35 user_id Message: stale element reference: element is not attached to the page document\n",
      "  (Session info: chrome=67.0.3396.99)\n",
      "  (Driver info: chromedriver=2.38.552522 (437e6fbedfa8762dec75e2c5b3ddb86763dc9dcb),platform=Windows NT 10.0.17134 x86_64)\n",
      "\n",
      "get user_id\n",
      "\n",
      "\n",
      "35 finished\n",
      "36 user_id Message: stale element reference: element is not attached to the page document\n",
      "  (Session info: chrome=67.0.3396.99)\n",
      "  (Driver info: chromedriver=2.38.552522 (437e6fbedfa8762dec75e2c5b3ddb86763dc9dcb),platform=Windows NT 10.0.17134 x86_64)\n",
      "\n",
      "get user_id\n",
      "\n",
      "\n",
      "36 finished\n",
      "37 user_id Message: stale element reference: element is not attached to the page document\n",
      "  (Session info: chrome=67.0.3396.99)\n",
      "  (Driver info: chromedriver=2.38.552522 (437e6fbedfa8762dec75e2c5b3ddb86763dc9dcb),platform=Windows NT 10.0.17134 x86_64)\n",
      "\n",
      "get user_id\n",
      "\n",
      "\n",
      "37 finished\n",
      "get user_id\n",
      "\n",
      "\n",
      "38 finished\n",
      "get user_id\n",
      "\n",
      "\n",
      "39 finished\n",
      "40 user_id Message: stale element reference: element is not attached to the page document\n",
      "  (Session info: chrome=67.0.3396.99)\n",
      "  (Driver info: chromedriver=2.38.552522 (437e6fbedfa8762dec75e2c5b3ddb86763dc9dcb),platform=Windows NT 10.0.17134 x86_64)\n",
      "\n",
      "get user_id\n",
      "\n",
      "\n",
      "below 11\n",
      "40 finished\n",
      "get user_id\n",
      "\n",
      "\n",
      "below 11\n",
      "41 finished\n",
      "get user_id\n",
      "\n",
      "\n",
      "42 finished\n",
      "get user_id\n",
      "\n",
      "\n",
      "43 finished\n",
      "44 user_id Message: stale element reference: element is not attached to the page document\n",
      "  (Session info: chrome=67.0.3396.99)\n",
      "  (Driver info: chromedriver=2.38.552522 (437e6fbedfa8762dec75e2c5b3ddb86763dc9dcb),platform=Windows NT 10.0.17134 x86_64)\n",
      "\n",
      "get user_id\n",
      "\n",
      "\n",
      "44 finished\n",
      "45 user_id Message: stale element reference: element is not attached to the page document\n",
      "  (Session info: chrome=67.0.3396.99)\n",
      "  (Driver info: chromedriver=2.38.552522 (437e6fbedfa8762dec75e2c5b3ddb86763dc9dcb),platform=Windows NT 10.0.17134 x86_64)\n",
      "\n",
      "get user_id\n",
      "\n",
      "\n",
      "45 finished\n",
      "get user_id\n",
      "\n",
      "\n",
      "46 finished\n",
      "get user_id\n",
      "\n",
      "\n",
      "47 finished\n",
      "get user_id\n",
      "\n",
      "\n",
      "48 finished\n",
      "get user_id\n",
      "\n",
      "\n",
      "49 finished\n",
      "get user_id\n",
      "\n",
      "\n",
      "50 finished\n",
      "get user_id\n",
      "\n",
      "\n",
      "51 finished\n",
      "get user_id\n",
      "\n",
      "\n",
      "below 11\n",
      "52 finished\n",
      "53 user_id Message: stale element reference: element is not attached to the page document\n",
      "  (Session info: chrome=67.0.3396.99)\n",
      "  (Driver info: chromedriver=2.38.552522 (437e6fbedfa8762dec75e2c5b3ddb86763dc9dcb),platform=Windows NT 10.0.17134 x86_64)\n",
      "\n",
      "get user_id\n",
      "\n",
      "\n",
      "53 finished\n",
      "get user_id\n",
      "\n",
      "\n",
      "below 11\n",
      "54 finished\n",
      "get user_id\n",
      "\n",
      "\n",
      "below 11\n",
      "55 finished\n",
      "get user_id\n",
      "\n",
      "\n",
      "56 finished\n",
      "get user_id\n",
      "\n",
      "\n",
      "below 11\n",
      "57 finished\n",
      "get user_id\n",
      "\n",
      "\n",
      "58 finished\n",
      "get user_id\n",
      "\n",
      "\n",
      "59 finished\n",
      "get user_id\n",
      "\n",
      "\n",
      "60 finished\n",
      "61 user_id Message: stale element reference: element is not attached to the page document\n",
      "  (Session info: chrome=67.0.3396.99)\n",
      "  (Driver info: chromedriver=2.38.552522 (437e6fbedfa8762dec75e2c5b3ddb86763dc9dcb),platform=Windows NT 10.0.17134 x86_64)\n",
      "\n",
      "get user_id\n",
      "\n",
      "\n",
      "61 finished\n",
      "62 user_id Message: stale element reference: element is not attached to the page document\n",
      "  (Session info: chrome=67.0.3396.99)\n",
      "  (Driver info: chromedriver=2.38.552522 (437e6fbedfa8762dec75e2c5b3ddb86763dc9dcb),platform=Windows NT 10.0.17134 x86_64)\n",
      "\n",
      "get user_id\n",
      "\n",
      "\n",
      "62 finished\n",
      "get user_id\n",
      "\n",
      "\n",
      "63 finished\n",
      "get user_id\n",
      "\n",
      "\n",
      "below 11\n",
      "64 finished\n",
      "get user_id\n",
      "\n",
      "\n",
      "below 11\n",
      "65 finished\n",
      "get user_id\n",
      "\n",
      "\n",
      "66 finished\n",
      "get user_id\n",
      "\n",
      "\n",
      "67 finished\n",
      "get user_id\n",
      "\n",
      "\n",
      "68 finished\n",
      "69 user_id Message: stale element reference: element is not attached to the page document\n",
      "  (Session info: chrome=67.0.3396.99)\n",
      "  (Driver info: chromedriver=2.38.552522 (437e6fbedfa8762dec75e2c5b3ddb86763dc9dcb),platform=Windows NT 10.0.17134 x86_64)\n",
      "\n",
      "get user_id\n",
      "\n",
      "\n",
      "69 finished\n",
      "get user_id\n",
      "\n",
      "\n",
      "70 finished\n",
      "get user_id\n",
      "\n",
      "\n",
      "below 11\n",
      "71 finished\n",
      "get user_id\n",
      "\n",
      "\n",
      "72 finished\n",
      "get user_id\n",
      "\n",
      "\n",
      "73 finished\n",
      "get user_id\n",
      "\n",
      "\n",
      "74 finished\n",
      "get user_id\n",
      "\n",
      "\n",
      "75 finished\n",
      "76 user_id Message: stale element reference: element is not attached to the page document\n",
      "  (Session info: chrome=67.0.3396.99)\n",
      "  (Driver info: chromedriver=2.38.552522 (437e6fbedfa8762dec75e2c5b3ddb86763dc9dcb),platform=Windows NT 10.0.17134 x86_64)\n",
      "\n",
      "get user_id\n",
      "\n",
      "\n"
     ]
    },
    {
     "name": "stdout",
     "output_type": "stream",
     "text": [
      "below 11\n",
      "76 finished\n",
      "get user_id\n",
      "\n",
      "\n",
      "77 finished\n",
      "get user_id\n",
      "\n",
      "\n",
      "78 finished\n",
      "get user_id\n",
      "\n",
      "\n",
      "79 finished\n",
      "get user_id\n",
      "\n",
      "\n",
      "80 finished\n",
      "get user_id\n",
      "\n",
      "\n",
      "81 finished\n",
      "get user_id\n",
      "\n",
      "\n",
      "82 finished\n",
      "83 user_id Message: stale element reference: element is not attached to the page document\n",
      "  (Session info: chrome=67.0.3396.99)\n",
      "  (Driver info: chromedriver=2.38.552522 (437e6fbedfa8762dec75e2c5b3ddb86763dc9dcb),platform=Windows NT 10.0.17134 x86_64)\n",
      "\n",
      "get user_id\n",
      "\n",
      "\n",
      "83 finished\n",
      "84 user_id Message: stale element reference: element is not attached to the page document\n",
      "  (Session info: chrome=67.0.3396.99)\n",
      "  (Driver info: chromedriver=2.38.552522 (437e6fbedfa8762dec75e2c5b3ddb86763dc9dcb),platform=Windows NT 10.0.17134 x86_64)\n",
      "\n",
      "get user_id\n",
      "\n",
      "\n",
      "84 finished\n",
      "get user_id\n",
      "\n",
      "\n",
      "85 finished\n",
      "get user_id\n",
      "\n",
      "\n",
      "86 finished\n",
      "get user_id\n",
      "\n",
      "\n",
      "87 finished\n",
      "get user_id\n",
      "\n",
      "\n",
      "below 11\n",
      "88 finished\n",
      "get user_id\n",
      "\n",
      "\n",
      "89 finished\n",
      "90 user_id Message: stale element reference: element is not attached to the page document\n",
      "  (Session info: chrome=67.0.3396.99)\n",
      "  (Driver info: chromedriver=2.38.552522 (437e6fbedfa8762dec75e2c5b3ddb86763dc9dcb),platform=Windows NT 10.0.17134 x86_64)\n",
      "\n",
      "get user_id\n",
      "\n",
      "\n",
      "90 finished\n",
      "91 user_id Message: stale element reference: element is not attached to the page document\n",
      "  (Session info: chrome=67.0.3396.99)\n",
      "  (Driver info: chromedriver=2.38.552522 (437e6fbedfa8762dec75e2c5b3ddb86763dc9dcb),platform=Windows NT 10.0.17134 x86_64)\n",
      "\n",
      "get user_id\n",
      "\n",
      "\n",
      "91 finished\n",
      "get user_id\n",
      "\n",
      "\n",
      "92 finished\n",
      "93 user_id Message: stale element reference: element is not attached to the page document\n",
      "  (Session info: chrome=67.0.3396.99)\n",
      "  (Driver info: chromedriver=2.38.552522 (437e6fbedfa8762dec75e2c5b3ddb86763dc9dcb),platform=Windows NT 10.0.17134 x86_64)\n",
      "\n",
      "get user_id\n",
      "\n",
      "\n",
      "93 finished\n",
      "get user_id\n",
      "\n",
      "\n",
      "94 finished\n",
      "get user_id\n",
      "\n",
      "\n",
      "below 11\n",
      "95 finished\n",
      "96 user_id Message: stale element reference: element is not attached to the page document\n",
      "  (Session info: chrome=67.0.3396.99)\n",
      "  (Driver info: chromedriver=2.38.552522 (437e6fbedfa8762dec75e2c5b3ddb86763dc9dcb),platform=Windows NT 10.0.17134 x86_64)\n",
      "\n",
      "get user_id\n",
      "\n",
      "\n",
      "96 finished\n",
      "get user_id\n",
      "\n",
      "\n",
      "97 finished\n",
      "98 user_id Message: stale element reference: element is not attached to the page document\n",
      "  (Session info: chrome=67.0.3396.99)\n",
      "  (Driver info: chromedriver=2.38.552522 (437e6fbedfa8762dec75e2c5b3ddb86763dc9dcb),platform=Windows NT 10.0.17134 x86_64)\n",
      "\n",
      "get user_id\n",
      "\n",
      "\n",
      "below 11\n",
      "98 finished\n",
      "get user_id\n",
      "\n",
      "\n",
      "99 finished\n"
     ]
    }
   ],
   "source": [
    "intake.main()"
   ]
  },
  {
   "cell_type": "code",
   "execution_count": 1,
   "metadata": {},
   "outputs": [
    {
     "ename": "NameError",
     "evalue": "name 'intake' is not defined",
     "output_type": "error",
     "traceback": [
      "\u001b[1;31m---------------------------------------------------------------------------\u001b[0m",
      "\u001b[1;31mNameError\u001b[0m                                 Traceback (most recent call last)",
      "\u001b[1;32m<ipython-input-1-c95217da7e1d>\u001b[0m in \u001b[0;36m<module>\u001b[1;34m()\u001b[0m\n\u001b[0;32m      1\u001b[0m \u001b[1;31m#intake.chrome_open()\u001b[0m\u001b[1;33m\u001b[0m\u001b[1;33m\u001b[0m\u001b[0m\n\u001b[1;32m----> 2\u001b[1;33m \u001b[0mintake\u001b[0m\u001b[1;33m.\u001b[0m\u001b[0minsta_keyword\u001b[0m\u001b[1;33m(\u001b[0m\u001b[1;33m)\u001b[0m\u001b[1;33m\u001b[0m\u001b[0m\n\u001b[0m",
      "\u001b[1;31mNameError\u001b[0m: name 'intake' is not defined"
     ]
    }
   ],
   "source": [
    "#intake.chrome_open()\n",
    "intake.insta_keyword()"
   ]
  },
  {
   "cell_type": "code",
   "execution_count": 28,
   "metadata": {},
   "outputs": [],
   "source": [
    "intake.driver.quit()"
   ]
  },
  {
   "cell_type": "code",
   "execution_count": 6,
   "metadata": {},
   "outputs": [],
   "source": [
    "def save_data(data, datatype='list'):\n",
    "    with open('{}.txt'.format('intake_' + datatype), 'wb') as f:\n",
    "        pickle.dump(data, f)\n",
    "        \n",
    "save_data(intake.dataset)\n",
    "save_data(intake.keyword_dic, 'dic')\n",
    "        \n"
   ]
  },
  {
   "cell_type": "markdown",
   "metadata": {
    "scrolled": false
   },
   "source": [
    "test = Insta(keyword = '모닝죽검은콩', number = 'total', dir_name = '모닝죽검은콩', mode='headless')\n",
    "\n",
    "test.chrome_open()\n",
    "\n",
    "test.insta_keyword()\n",
    "\n",
    "time.sleep(3)\n",
    "\n",
    "test.crawling()\n",
    "\n",
    "test.save_data()\n",
    "\n",
    "test.driver.quit()\n",
    "\n",
    "\n",
    "print(len(list(test.keyword_dic.items())))\n",
    "\n",
    "\n",
    "main_text = [len(test.keyword_dic[i]['main_text']) for i in test.keyword_dic]\n",
    "\n",
    "print(sum(main_text))\n",
    "\n",
    "import pickle\n",
    "with open('test.txt', 'wb') as f:\n",
    "    pickle.dump(test.keyword_dic, f)\n",
    "\n",
    "with open('test.txt', 'rb') as f:\n",
    "    test_dic = pickle.load(f)\n",
    "\n",
    "test_dic['intakefoods']\n",
    "\n",
    "test_list = list(test_dic.values())\n",
    "\n",
    "test_list[:2]\n",
    "\n",
    "\n",
    "\n",
    "test.keyword_dic['intakefoods']\n",
    "\n",
    "print(test.user_ids)"
   ]
  },
  {
   "cell_type": "code",
   "execution_count": null,
   "metadata": {
    "collapsed": true
   },
   "outputs": [],
   "source": []
  },
  {
   "cell_type": "code",
   "execution_count": null,
   "metadata": {
    "collapsed": true
   },
   "outputs": [],
   "source": []
  },
  {
   "cell_type": "code",
   "execution_count": null,
   "metadata": {
    "collapsed": true
   },
   "outputs": [],
   "source": []
  },
  {
   "cell_type": "code",
   "execution_count": null,
   "metadata": {
    "collapsed": true
   },
   "outputs": [],
   "source": []
  },
  {
   "cell_type": "code",
   "execution_count": null,
   "metadata": {
    "collapsed": true
   },
   "outputs": [],
   "source": []
  },
  {
   "cell_type": "code",
   "execution_count": null,
   "metadata": {
    "collapsed": true
   },
   "outputs": [],
   "source": []
  },
  {
   "cell_type": "code",
   "execution_count": null,
   "metadata": {
    "collapsed": true
   },
   "outputs": [],
   "source": []
  },
  {
   "cell_type": "code",
   "execution_count": null,
   "metadata": {
    "collapsed": true
   },
   "outputs": [],
   "source": []
  },
  {
   "cell_type": "code",
   "execution_count": null,
   "metadata": {
    "collapsed": true
   },
   "outputs": [],
   "source": []
  },
  {
   "cell_type": "code",
   "execution_count": null,
   "metadata": {
    "collapsed": true
   },
   "outputs": [],
   "source": []
  },
  {
   "cell_type": "code",
   "execution_count": null,
   "metadata": {
    "collapsed": true
   },
   "outputs": [],
   "source": []
  },
  {
   "cell_type": "code",
   "execution_count": null,
   "metadata": {
    "collapsed": true
   },
   "outputs": [],
   "source": []
  },
  {
   "cell_type": "code",
   "execution_count": null,
   "metadata": {
    "collapsed": true
   },
   "outputs": [],
   "source": []
  },
  {
   "cell_type": "code",
   "execution_count": null,
   "metadata": {
    "collapsed": true
   },
   "outputs": [],
   "source": []
  },
  {
   "cell_type": "code",
   "execution_count": null,
   "metadata": {
    "collapsed": true
   },
   "outputs": [],
   "source": []
  },
  {
   "cell_type": "code",
   "execution_count": null,
   "metadata": {
    "collapsed": true
   },
   "outputs": [],
   "source": []
  },
  {
   "cell_type": "code",
   "execution_count": null,
   "metadata": {
    "collapsed": true
   },
   "outputs": [],
   "source": []
  },
  {
   "cell_type": "code",
   "execution_count": null,
   "metadata": {
    "collapsed": true
   },
   "outputs": [],
   "source": []
  },
  {
   "cell_type": "code",
   "execution_count": 60,
   "metadata": {
    "collapsed": true
   },
   "outputs": [],
   "source": [
    "a = [i for i in keyword_dic.keys()]"
   ]
  },
  {
   "cell_type": "code",
   "execution_count": null,
   "metadata": {
    "collapsed": true
   },
   "outputs": [],
   "source": [
    "a[100]"
   ]
  },
  {
   "cell_type": "code",
   "execution_count": null,
   "metadata": {
    "collapsed": true
   },
   "outputs": [],
   "source": []
  },
  {
   "cell_type": "code",
   "execution_count": null,
   "metadata": {
    "collapsed": true
   },
   "outputs": [],
   "source": []
  },
  {
   "cell_type": "code",
   "execution_count": null,
   "metadata": {
    "collapsed": true
   },
   "outputs": [],
   "source": [
    "    checker = True\n",
    "    while checker:\n",
    "        try:\n",
    "            WebDriverWait(intake.driver, 3).until(EC.text_to_be_present_in_element_by_css_selector('ul.Xl2Pu>li>span>a:last-child', hashtags[-1]))\n",
    "            print(1)\n",
    "        except:\n",
    "            checker = False\n",
    "            print(2)\n",
    "                                                  \n",
    "                                                  \n",
    "    # waiting = WebDriverWait(intake.driver, 3).until(EC.staleness_of(main_text.find_elements_by_tag_name('a')[-1]))\n",
    "    \n",
    "        "
   ]
  },
  {
   "cell_type": "code",
   "execution_count": 18,
   "metadata": {
    "collapsed": true
   },
   "outputs": [],
   "source": [
    "intake.driver.quit()"
   ]
  },
  {
   "cell_type": "code",
   "execution_count": 32,
   "metadata": {},
   "outputs": [
    {
     "data": {
      "text/plain": [
       "'.myday_1027'"
      ]
     },
     "execution_count": 32,
     "metadata": {},
     "output_type": "execute_result"
    }
   ],
   "source": [
    "hashtags[0]"
   ]
  },
  {
   "cell_type": "code",
   "execution_count": null,
   "metadata": {
    "collapsed": true
   },
   "outputs": [],
   "source": [
    "keyword_dic[a[100]]"
   ]
  },
  {
   "cell_type": "code",
   "execution_count": 60,
   "metadata": {
    "collapsed": true
   },
   "outputs": [],
   "source": [
    "texts = intake.driver.find_element_by_css_selector('ul.Xl2Pu > li:last-child').text"
   ]
  },
  {
   "cell_type": "code",
   "execution_count": 61,
   "metadata": {},
   "outputs": [
    {
     "data": {
      "text/plain": [
       "'eo_s__g행님 광주에서머함'"
      ]
     },
     "execution_count": 61,
     "metadata": {},
     "output_type": "execute_result"
    }
   ],
   "source": [
    "texts"
   ]
  },
  {
   "cell_type": "code",
   "execution_count": 168,
   "metadata": {
    "collapsed": true
   },
   "outputs": [],
   "source": [
    "a = [z.text for z in texts[0].find_elements_by_tag_name('a')]"
   ]
  },
  {
   "cell_type": "code",
   "execution_count": 170,
   "metadata": {},
   "outputs": [
    {
     "data": {
      "text/plain": [
       "'#점심'"
      ]
     },
     "execution_count": 170,
     "metadata": {},
     "output_type": "execute_result"
    }
   ],
   "source": [
    "a[1]"
   ]
  },
  {
   "cell_type": "code",
   "execution_count": 51,
   "metadata": {},
   "outputs": [
    {
     "data": {
      "text/plain": [
       "661"
      ]
     },
     "execution_count": 51,
     "metadata": {},
     "output_type": "execute_result"
    }
   ],
   "source": [
    "len(keyword_dic)"
   ]
  },
  {
   "cell_type": "code",
   "execution_count": null,
   "metadata": {
    "collapsed": true
   },
   "outputs": [],
   "source": []
  },
  {
   "cell_type": "code",
   "execution_count": 52,
   "metadata": {
    "collapsed": true
   },
   "outputs": [],
   "source": [
    "all_h = []\n",
    "for i in keyword_dic:\n",
    "    for j in keyword_dic[i]['hashtags']:\n",
    "        all_h.extend(j)"
   ]
  },
  {
   "cell_type": "code",
   "execution_count": null,
   "metadata": {
    "collapsed": true
   },
   "outputs": [],
   "source": [
    "all_h"
   ]
  },
  {
   "cell_type": "code",
   "execution_count": 54,
   "metadata": {
    "collapsed": true
   },
   "outputs": [],
   "source": [
    "word_count = Counter(all_h)\n",
    "word_count2 = []\n",
    "for i in word_count:\n",
    "    word_count2.append((i, word_count[i]))\n",
    "\n",
    "word_count2 = sorted(word_count2, key=lambda x: x[1], reverse = True)"
   ]
  },
  {
   "cell_type": "code",
   "execution_count": null,
   "metadata": {
    "collapsed": true
   },
   "outputs": [],
   "source": [
    "word_count2"
   ]
  },
  {
   "cell_type": "code",
   "execution_count": 45,
   "metadata": {
    "collapsed": true
   },
   "outputs": [],
   "source": [
    "user_id = article.find_element_by_css_selector('div.e1e1d').text"
   ]
  },
  {
   "cell_type": "code",
   "execution_count": 46,
   "metadata": {},
   "outputs": [
    {
     "data": {
      "text/plain": [
       "'d_ddang2'"
      ]
     },
     "execution_count": 46,
     "metadata": {},
     "output_type": "execute_result"
    }
   ],
   "source": [
    "for i in "
   ]
  },
  {
   "cell_type": "code",
   "execution_count": 72,
   "metadata": {
    "collapsed": true
   },
   "outputs": [],
   "source": [
    "texts = article.find_elements_by_css_selector('ul.Xl2Pu > li')"
   ]
  },
  {
   "cell_type": "code",
   "execution_count": 73,
   "metadata": {
    "collapsed": true
   },
   "outputs": [],
   "source": [
    "main_text = texts[0]"
   ]
  },
  {
   "cell_type": "code",
   "execution_count": null,
   "metadata": {
    "collapsed": true
   },
   "outputs": [],
   "source": [
    "comments = texts[1:]"
   ]
  },
  {
   "cell_type": "code",
   "execution_count": 74,
   "metadata": {
    "scrolled": true
   },
   "outputs": [
    {
     "data": {
      "text/plain": [
       "'d_ddang2#땅180617 #땅_아침🌿\\n.\\n밀스라이트(벨벳카카오)\\n.\\n오늘도 간단하게 챙겨나온 밀스라이트..! 근데 저번에 먹을때도 그랬지만 뚜껑 겁나 안열림...ㅠ 결국 칼로 뜯었었는데 오늘도 그랬다... 카페라떼 맛은 안 그런걸로 봐서 원래 그런건 아닌것 같고 불량품인가.. 남은것들도 다 칼로 따야하낰ㅋㅋㅋ 세상불편😭😭😭 아침에 바빠서 빨리먹어야 했는데 똑땅....다음병은 안그랬으면🙏\\n.\\n#아침식단#식단기록#다이어트식단#인테이크#밀스라이트#잇클린#다이어트#다이어터#다이어트그램'"
      ]
     },
     "execution_count": 74,
     "metadata": {},
     "output_type": "execute_result"
    }
   ],
   "source": [
    "main_text.text"
   ]
  },
  {
   "cell_type": "code",
   "execution_count": 75,
   "metadata": {
    "collapsed": true
   },
   "outputs": [],
   "source": [
    "hashtags = main_text.find_elements_by_tag_name('a')"
   ]
  },
  {
   "cell_type": "code",
   "execution_count": 76,
   "metadata": {},
   "outputs": [
    {
     "name": "stdout",
     "output_type": "stream",
     "text": [
      "_ddang2\n",
      "땅180617\n",
      "땅_아침🌿\n",
      "아침식단\n",
      "식단기록\n",
      "다이어트식단\n",
      "인테이크\n",
      "밀스라이트\n",
      "잇클린\n",
      "다이어트\n",
      "다이어터\n",
      "다이어트그램\n"
     ]
    }
   ],
   "source": [
    "for i in hashtags:\n",
    "    print(i.text[1:])"
   ]
  },
  {
   "cell_type": "code",
   "execution_count": 77,
   "metadata": {
    "collapsed": true
   },
   "outputs": [],
   "source": [
    "comments = texts[1:]"
   ]
  },
  {
   "cell_type": "code",
   "execution_count": 78,
   "metadata": {},
   "outputs": [
    {
     "name": "stdout",
     "output_type": "stream",
     "text": [
      "neverminddarlingㅜㅠ 잉 땅이님 바쁘신데 요눔~~~~!! 나머지 병들은 똑 열리길 바랄게유\n",
      "ddori_u아니진쨔..뚜껑..너의본분은..열리는것이란ㄴ다..잊으면안돼.. 땅이님 바쁜데 곤란하게하제말쟈..^_ㅜㅜㅜ\n",
      "d_ddang2@neverminddarling 진짴ㅋㅋㅋㅋ 제가 힘이약한것도 아닌데 당황해써요😭\n",
      "d_ddang2@ddori_u 앜ㅋㅋㅋㅋㅋ 또리님 졸귀...😆😆 후 뚜껑 부들부들... 밥먹게 해주라주!\n"
     ]
    }
   ],
   "source": [
    "for i in comments:\n",
    "    print(i.text)"
   ]
  },
  {
   "cell_type": "code",
   "execution_count": 79,
   "metadata": {
    "collapsed": true
   },
   "outputs": [],
   "source": [
    "likes = article.find_element_by_css_selector('span.zV_Nj>span').text"
   ]
  },
  {
   "cell_type": "code",
   "execution_count": 80,
   "metadata": {},
   "outputs": [
    {
     "data": {
      "text/plain": [
       "'61'"
      ]
     },
     "execution_count": 80,
     "metadata": {},
     "output_type": "execute_result"
    }
   ],
   "source": [
    "likes"
   ]
  },
  {
   "cell_type": "code",
   "execution_count": 81,
   "metadata": {
    "collapsed": true
   },
   "outputs": [],
   "source": [
    "next_button = intake.driver.find_element_by_css_selector('a.HBoOv.coreSpriteRightPaginationArrow')"
   ]
  },
  {
   "cell_type": "code",
   "execution_count": 82,
   "metadata": {
    "collapsed": true
   },
   "outputs": [],
   "source": [
    "next_button.click()"
   ]
  },
  {
   "cell_type": "code",
   "execution_count": null,
   "metadata": {
    "collapsed": true
   },
   "outputs": [],
   "source": []
  },
  {
   "cell_type": "code",
   "execution_count": null,
   "metadata": {
    "collapsed": true
   },
   "outputs": [],
   "source": []
  },
  {
   "cell_type": "code",
   "execution_count": null,
   "metadata": {
    "collapsed": true
   },
   "outputs": [],
   "source": []
  },
  {
   "cell_type": "code",
   "execution_count": null,
   "metadata": {
    "collapsed": true
   },
   "outputs": [],
   "source": []
  },
  {
   "cell_type": "code",
   "execution_count": null,
   "metadata": {
    "collapsed": true
   },
   "outputs": [],
   "source": [
    "from selenium import webdriver\n",
    "from selenium.webdriver.support.ui import WebDriverWait\n",
    "from selenium.webdriver.support import expected_conditions as EC\n",
    "from selenium.common.exceptions import NoAlertPresentException, NoSuchElementException, TimeoutException, StaleElementReferenceException, UnexpectedAlertPresentException\n",
    "from selenium.webdriver.common.by import By\n",
    "import os\n",
    "import urllib.request\n",
    "from collections import Counter\n",
    "\n",
    "\n",
    "class Insta():\n",
    "\n",
    "    def __init__(self, keyword, number, dir_name='images', mode='None'):\n",
    "        self.keyword = keyword\n",
    "        self.number = int(number)\n",
    "        self.dir_name = dir_name\n",
    "        self.mode = mode\n",
    "\n",
    "    def chrome_open(self):\n",
    "\n",
    "        self.options = webdriver.ChromeOptions()\n",
    "        if self.mode == 'headless':\n",
    "            self.options.add_argument('headless')\n",
    "        self.options.add_argument('window-size=1920x1080')\n",
    "        self.options.add_argument(\"disable-gpu\")\n",
    "        self.options.add_argument(\"user-agent=Mozilla/5.0 (Macintosh; Intel Mac OS X 10_12_6) AppleWebKit/537.36 (KHTML, like Gecko) Chrome/61.0.3163.100 Safari/537.36\")\n",
    "        self.options.add_argument(\"lang=ko_KR\") # 한국어!\n",
    "        self.options.add_argument(\"disable-infobars\")\n",
    "        self.driver = webdriver.Chrome('chromedriver', chrome_options=self.options)\n",
    "\n",
    "        self.driver.get('http://google.com')\n",
    "        self.driver.execute_script(\"Object.defineProperty(navigator, 'plugins', {get: function() {return[1, 2, 3, 4, 5]}})\")\n",
    "        self.driver.execute_script(\"Object.defineProperty(navigator, 'languages', {get: function() {return ['ko-KR', 'ko']}})\")\n",
    "        self.driver.execute_script(\"const getParameter = WebGLRenderingContext.getParameter;WebGLRenderingContext.prototype.getParameter = function(parameter) {if (parameter === 37445) {return 'NVIDIA Corporation'} if (parameter === 37446) {return 'NVIDIA GeForce GTX 980 Ti OpenGL Engine';}return getParameter(parameter);};\")\n",
    "\n",
    "        self.driver.implicitly_wait(10)\n",
    "\n",
    "    def crawling(self):\n",
    "        keyword_t = urllib.parse.urlencode({'': self.keyword})[1:]\n",
    "        self.driver.get('https://www.instagram.com/explore/tags/{}/?hl=ko'.format(keyword_t))\n",
    "        #iframe = WebDriverWait(self.driver, 10).until(EC.presence_of_element_located((By.NAME, 'fb_xdm_frame_https')))\n",
    "        #self.driver.switch_to.frame(iframe1)\n",
    "        self.total = int(self.driver.find_element_by_xpath(\n",
    "            '//*[@id=\"react-root\"]/section/main/article/header/div[2]/span/span').text.replace(',', ''))\n",
    "\n",
    "        self.txt_list = []\n",
    "        self.img_url = []\n",
    "        breaker = 0\n",
    "        breaker = [0, 0]\n",
    "        while True:\n",
    "            imgs = WebDriverWait(self.driver, 10).until(\n",
    "                EC.visibility_of_all_elements_located((By.CSS_SELECTOR, 'div.eLAPa>div>img')))\n",
    "            #imgs = WebDriverWait(self.driver, 10).until(\n",
    "             #   EC.visibility_of_all_elements_located((By.CSS_SELECTOR, 'div._e3il2>div>img')))\n",
    "            for idx, i in enumerate(imgs):\n",
    "                txt = i.get_attribute('alt')\n",
    "                url = i.get_attribute('src')\n",
    "                if not url in self.img_url:\n",
    "                    num = len(self.img_url) + 1\n",
    "                    self.img_url.append(url)\n",
    "                    self.txt_list.append(txt)\n",
    "                    urllib.request.urlretrieve(url, '{}/{}_{}.jpg'.format(self.dir_name, self.keyword, num))\n",
    "                if num >= self.number:\n",
    "                    break\n",
    "                elif num >= self.total:\n",
    "                    break\n",
    "\n",
    "            breaker.append(len(self.img_url))\n",
    "            try:\n",
    "                if breaker[-1] == breaker[-10]:\n",
    "                    break\n",
    "            except Exception as e:\n",
    "                pass\n",
    "\n",
    "            self.driver.execute_script(\"window.scrollTo(0, document.body.scrollHeight);\")\n",
    "\n",
    "\n",
    "    def makedir(self, dir_name):\n",
    "        if not os.path.exists(dir_name):\n",
    "            os.makedirs(dir_name)\n",
    "\n",
    "    def reviews(self):\n",
    "        f = open('{}/{}_reviews.txt'.format(self.dir_name, self.keyword), 'w', encoding='utf-8')\n",
    "        for idx, row in enumerate(self.txt_list):\n",
    "            f.write(str(idx+1) + '.\\n')\n",
    "            f.write(row)\n",
    "            f.write('\\n\\n\\n')\n",
    "        f.close()\n",
    "\n",
    "        self.txt_merge = []\n",
    "        for idx, row in enumerate(self.txt_list):\n",
    "            self.txt_merge.extend(row.split('#'))\n",
    "        for idx, row in enumerate(self.txt_merge):\n",
    "            self.txt_merge[idx] = row.strip()\n",
    "\n",
    "    def hashtags(self):\n",
    "        word_count = Counter(self.txt_merge)\n",
    "\n",
    "        word_count2 = []\n",
    "        for i in word_count:\n",
    "            word_count2.append((i, word_count[i]))\n",
    "\n",
    "        word_count2 = sorted(word_count2, key=lambda x: x[1], reverse = True)\n",
    "\n",
    "        with open('{}/{}_count.txt'.format(self.dir_name, self.keyword), 'w', encoding='utf-8') as f:\n",
    "            for i in word_count2:\n",
    "                f.write(str(i) + '\\n')\n",
    "\n",
    "    def img_crawling(self):\n",
    "        self.chrome_open()\n",
    "        self.makedir(self.dir_name)\n",
    "        self.crawling()\n",
    "\n",
    "    def quit(self):\n",
    "        self.driver.quit()\n",
    "\n",
    "\n"
   ]
  },
  {
   "cell_type": "code",
   "execution_count": 14,
   "metadata": {
    "collapsed": true
   },
   "outputs": [],
   "source": [
    "pajamas.reviews()\n",
    "\n",
    "pajamas.hashtags()\n",
    "\n",
    "pajamas.quit()"
   ]
  },
  {
   "cell_type": "code",
   "execution_count": 16,
   "metadata": {
    "collapsed": true
   },
   "outputs": [],
   "source": [
    "vr카페 = Insta(keyword = 'vr카페', number = 500, dir_name = 'vr카페', mode=None)\n",
    "\n",
    "vr카페.img_crawling()\n",
    "\n",
    "vr카페.reviews()\n",
    "\n",
    "vr카페.hashtags()\n",
    "\n",
    "vr카페.quit()"
   ]
  },
  {
   "cell_type": "code",
   "execution_count": null,
   "metadata": {
    "collapsed": true
   },
   "outputs": [],
   "source": []
  }
 ],
 "metadata": {
  "kernelspec": {
   "display_name": "Python 3",
   "language": "python",
   "name": "python3"
  },
  "language_info": {
   "codemirror_mode": {
    "name": "ipython",
    "version": 3
   },
   "file_extension": ".py",
   "mimetype": "text/x-python",
   "name": "python",
   "nbconvert_exporter": "python",
   "pygments_lexer": "ipython3",
   "version": "3.6.4"
  }
 },
 "nbformat": 4,
 "nbformat_minor": 2
}
