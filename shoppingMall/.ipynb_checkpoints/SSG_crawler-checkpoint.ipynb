{
 "cells": [
  {
   "cell_type": "markdown",
   "metadata": {},
   "source": [
    "## 아직 작성 중..."
   ]
  },
  {
   "cell_type": "code",
   "execution_count": 5,
   "metadata": {},
   "outputs": [],
   "source": [
    "from bs4 import BeautifulSoup as bs\n",
    "import urllib.request as req  "
   ]
  },
  {
   "cell_type": "code",
   "execution_count": 2,
   "metadata": {},
   "outputs": [],
   "source": [
    "url = 'http://www.ssg.com/search.ssg?target=all&query=+%EC%9D%B8%ED%85%8C%EC%9D%B4%ED%81%AC&srch_area=sssg&page='"
   ]
  },
  {
   "cell_type": "code",
   "execution_count": 3,
   "metadata": {},
   "outputs": [],
   "source": [
    "def url_get(url):\n",
    "    HTML = req.urlopen(url)\n",
    "    page = bs(HTML.read(), 'html.parser')\n",
    "    infotable = page.find('ul',{'class':'cunit_thmb_lst'}).findAll('li')\n",
    "    target_list = list()\n",
    "    for info in infotable:\n",
    "        _ = info.find('div',{'class':'title'})\n",
    "        if (str(type(_.strong)) == \"<class 'NoneType'>\" ) : continue\n",
    "        if ((_.strong.get_text() == '닥터넛츠') or (_.strong.get_text() == '인테이크')):\n",
    "            target_list.append([_.strong.get_text(), #회사브랜드\n",
    "                                _.a['href'],         #상품주소\n",
    "                                _.a.get_text()])     #상품명\n",
    "    return target_list    "
   ]
  },
  {
   "cell_type": "code",
   "execution_count": 4,
   "metadata": {},
   "outputs": [
    {
     "name": "stdout",
     "output_type": "stream",
     "text": [
      "총 가져온 URL 수:  118\n"
     ]
    }
   ],
   "source": [
    "url_list = list()\n",
    "for n in [1,2]:\n",
    "    url_list+=url_get(url+str(n))\n",
    "print(\"총 가져온 URL 수: \",len(url_list))"
   ]
  },
  {
   "cell_type": "code",
   "execution_count": null,
   "metadata": {},
   "outputs": [],
   "source": [
    "def info_get(url):\n",
    "    HTML = req.urlopen(url)\n",
    "    page = bs(HTML.read(), 'html.parser')"
   ]
  }
 ],
 "metadata": {
  "kernelspec": {
   "display_name": "Python 3",
   "language": "python",
   "name": "python3"
  },
  "language_info": {
   "codemirror_mode": {
    "name": "ipython",
    "version": 3
   },
   "file_extension": ".py",
   "mimetype": "text/x-python",
   "name": "python",
   "nbconvert_exporter": "python",
   "pygments_lexer": "ipython3",
   "version": "3.6.4"
  }
 },
 "nbformat": 4,
 "nbformat_minor": 2
}
